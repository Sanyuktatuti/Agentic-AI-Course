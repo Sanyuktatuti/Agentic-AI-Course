{
 "cells": [
  {
   "cell_type": "markdown",
   "metadata": {},
   "source": [
    "### Implementing the Architecture:\n",
    "\n",
    "```\n",
    "\n",
    "            -------------                                               \n",
    "            |           |                             \n",
    "            | __start__ |         \n",
    "            -------------\n",
    "                  |\n",
    "                  |  <----- Q1. How are you?,  Q2. What is the current GDP of USA?\n",
    "                  |\n",
    "                 \\ /\n",
    "            -------------\n",
    "            |           |\n",
    "            | supervisor|  <- The supervisor calls the LLM node for the Q1. How are you? then ends.\n",
    "            -------------  <- The supervisor calls the RAG node for the Q2. What is the current GDP of USA?.\n",
    "                /   \\\n",
    "               /     \\\n",
    "              /       \\\n",
    "        LLM CALL    RAG CALL    \n",
    "             |         | \n",
    "             |         |\n",
    "            \\ /       \\ /\n",
    "    -------------     -------------            -------------\n",
    "    |           |     |            |           |            |\n",
    "    |  LLM      |     |   RAG      | ------->  |  Vector DB |  <---- Data (Eg.: USA Industry)\n",
    "    -------------     -------------            --------------\n",
    "            |               |\n",
    "            |               |\n",
    "            \\               /\n",
    "             \\             /\n",
    "             \\ /         \\ /\n",
    "              -------------\n",
    "              |           |\n",
    "              |  __end__  |\n",
    "              -------------\n",
    "    \n",
    "```\n",
    "____________"
   ]
  },
  {
   "cell_type": "markdown",
   "metadata": {},
   "source": [
    "#### Configuring the Model:"
   ]
  },
  {
   "cell_type": "code",
   "execution_count": null,
   "metadata": {},
   "outputs": [
    {
     "data": {
      "text/plain": [
       "AIMessage(content='Hi there! How can I help you today?', additional_kwargs={}, response_metadata={'prompt_feedback': {'block_reason': 0, 'safety_ratings': []}, 'finish_reason': 'STOP', 'model_name': 'gemini-1.5-flash', 'safety_ratings': []}, id='run--6bbb5cbb-3435-4840-9d3d-c9b9545e491f-0', usage_metadata={'input_tokens': 1, 'output_tokens': 11, 'total_tokens': 12, 'input_token_details': {'cache_read': 0}})"
      ]
     },
     "execution_count": 60,
     "metadata": {},
     "output_type": "execute_result"
    }
   ],
   "source": [
    "from langchain_google_genai import ChatGoogleGenerativeAI\n",
    "model = ChatGoogleGenerativeAI(model=\"gemini-1.5-flash\")\n",
    "\n",
    "output = model.invoke(\"hi\")\n",
    "output"
   ]
  },
  {
   "cell_type": "code",
   "execution_count": 2,
   "metadata": {},
   "outputs": [
    {
     "data": {
      "text/plain": [
       "'Hi there! How can I help you today?'"
      ]
     },
     "execution_count": 2,
     "metadata": {},
     "output_type": "execute_result"
    }
   ],
   "source": [
    "output.content"
   ]
  },
  {
   "cell_type": "markdown",
   "metadata": {},
   "source": [
    "_____________\n",
    "\n",
    "#### Configuring the embedding model:"
   ]
  },
  {
   "cell_type": "code",
   "execution_count": 3,
   "metadata": {},
   "outputs": [
    {
     "name": "stderr",
     "output_type": "stream",
     "text": [
      "/Users/sanyuktatuti/Documents/AGENTIC_AI_Krish_Naik/venv/lib/python3.13/site-packages/tqdm/auto.py:21: TqdmWarning: IProgress not found. Please update jupyter and ipywidgets. See https://ipywidgets.readthedocs.io/en/stable/user_install.html\n",
      "  from .autonotebook import tqdm as notebook_tqdm\n"
     ]
    },
    {
     "data": {
      "text/plain": [
       "384"
      ]
     },
     "execution_count": 3,
     "metadata": {},
     "output_type": "execute_result"
    }
   ],
   "source": [
    "from langchain_huggingface import HuggingFaceEmbeddings\n",
    "\n",
    "embeddings = HuggingFaceEmbeddings(model_name=\"BAAI/bge-small-en\")\n",
    "\n",
    "len(embeddings.embed_query(\"Hi\"))"
   ]
  },
  {
   "cell_type": "markdown",
   "metadata": {},
   "source": [
    "_________\n",
    "#### Taking Data -> Embed -> Store in VDB"
   ]
  },
  {
   "cell_type": "code",
   "execution_count": 4,
   "metadata": {},
   "outputs": [],
   "source": [
    "from langchain_community.document_loaders import TextLoader, DirectoryLoader\n",
    "from langchain_community.vectorstores import Chroma\n",
    "from langchain.text_splitter import RecursiveCharacterTextSplitter"
   ]
  },
  {
   "cell_type": "markdown",
   "metadata": {},
   "source": [
    "##### 1. Loading the data"
   ]
  },
  {
   "cell_type": "code",
   "execution_count": 5,
   "metadata": {},
   "outputs": [],
   "source": [
    "loader = DirectoryLoader(\"/Users/sanyuktatuti/Documents/AGENTIC_AI_Krish_Naik/3-LangGraph/data2\", glob=\"./*txt\", loader_cls=TextLoader)"
   ]
  },
  {
   "cell_type": "code",
   "execution_count": 6,
   "metadata": {},
   "outputs": [],
   "source": [
    "docs=loader.load()"
   ]
  },
  {
   "cell_type": "code",
   "execution_count": 7,
   "metadata": {},
   "outputs": [
    {
     "data": {
      "text/plain": [
       "[Document(metadata={'source': '/Users/sanyuktatuti/Documents/AGENTIC_AI_Krish_Naik/3-LangGraph/data2/usa.txt'}, page_content=\"🇺🇸 Overview of the U.S. Economy\\nThe United States of America possesses the largest economy in the world in terms of nominal GDP, making it the most powerful economic force globally. It operates under a capitalist mixed economy, where the private sector dominates, but the government plays a significant regulatory and fiscal role. With a population of over 335 million people and a high level of technological advancement, the U.S. economy thrives on a foundation of consumer spending, innovation, global trade, and financial services. It has a highly diversified structure with strong sectors in technology, healthcare, finance, real estate, defense, and agriculture.\\n\\nU.S. GDP – Size, Composition, and Global Share\\nAs of 2024, the United States’ nominal GDP is estimated to be around $28 trillion USD, accounting for approximately 25% of the global economy. It ranks #1 in the world by nominal GDP, far ahead of China (which ranks 2nd). The U.S. GDP per capita is also among the highest, hovering around $83,000, which indicates a high standard of living and productivity. In terms of Purchasing Power Parity (PPP), the U.S. ranks second, but nominal GDP is considered more reflective of actual economic size and financial influence.\\n\\nThe GDP is predominantly driven by the services sector, which contributes more than 77% to the total GDP. This includes industries such as finance, insurance, real estate, healthcare, education, and information technology. The industrial sector (manufacturing, construction, mining) makes up around 19%, while agriculture, although technologically advanced and export-oriented, contributes only about 1%. Despite its small share in GDP, U.S. agriculture is globally significant in terms of productivity and exports.\\n\\nGDP Growth Trends and Dynamics\\nHistorically, the U.S. economy has enjoyed consistent long-term growth, averaging around 2-3% annually. Post-pandemic, the economy bounced back strongly, but 2022 and 2023 saw rising inflation due to supply chain issues and stimulus-driven demand. In 2024, the U.S. GDP grew at a modest pace of around 2.1%, as the Federal Reserve’s interest rate hikes aimed at controlling inflation also moderated economic expansion. Consumer spending, which makes up nearly 70% of GDP, remains a dominant force in economic stability.\\n\\nThe U.S. maintains its GDP growth through strong innovation, entrepreneurship, and investment in R&D. With companies like Apple, Google, Amazon, Microsoft, and Tesla leading global markets, the U.S. consistently produces high value across sectors, especially in technology and advanced services. Additionally, the economy benefits from intellectual property exports, financial services, and higher education, all of which contribute significantly to GDP through both domestic and international markets.\\n\\nRole in the Global Economy\\nThe U.S. Dollar (USD) is the global reserve currency, held by over 60% of the world’s central bank reserves. This gives the U.S. an enormous advantage in global trade and borrowing. The U.S. is a key member of international institutions like the World Bank, IMF, G7, G20, and WTO, and plays a central role in setting global economic policy.\\n\\nAs a global innovation hub, the U.S. attracts billions in foreign investment and hosts many of the world's largest and most valuable companies. Its exports include high-tech machinery, aircraft, pharmaceuticals, semiconductors, and financial services, while its imports cover consumer goods, electronics, automobiles, and industrial materials. The trade deficit remains large (around $900 billion in 2024), primarily because the U.S. consumes more than it exports, but its ability to finance this through capital inflows and reserve currency status sustains balance.\\n\\nKey Economic Strengths\\nThe core strength of the U.S. economy lies in its flexible labor market, deep capital markets, technological superiority, and legal system that encourages innovation and property rights. It has a large, highly educated workforce, a diverse immigration pipeline, and access to vast natural resources including oil, gas, coal, and farmland. The presence of top-tier universities and research institutions fuels the knowledge economy, with billions spent annually on R&D—over $700 billion USD, more than any other country.\\n\\nThe U.S. leads in many critical sectors, including software, biotechnology, aerospace, defense, financial services, and media. Its startup ecosystem, especially in Silicon Valley, produces unicorns and tech giants at a scale unmatched globally. Its financial markets—particularly Wall Street—are the most liquid and globally integrated in the world.\\n\\nChallenges and Structural Issues\\nDespite its strength, the U.S. economy faces several serious long-term issues. The national debt has surpassed $34 trillion USD, raising concerns about fiscal sustainability, especially as interest payments alone are growing rapidly. The income and wealth inequality gap has widened, with a small percentage of Americans owning a disproportionate share of wealth. Access to affordable healthcare, housing shortages, and a declining labor force participation in some sectors are additional structural issues.\\n\\nAnother growing concern is political polarization, which often stalls crucial economic reforms and budget agreements, as seen in recurrent debt ceiling crises. The U.S. also faces challenges from global competition, especially from China in areas like AI, semiconductors, and green technology. Moreover, climate change, cybersecurity threats, and geopolitical risks (like Ukraine and Taiwan conflicts) add layers of vulnerability to economic planning.\\n\\nFuture Outlook (2025–2030)\\nLooking forward, the U.S. economy is expected to grow at a moderate pace, powered by innovation in AI, green energy, robotics, biotech, and quantum computing. The Biden administration’s Inflation Reduction Act and CHIPS Act are pumping massive investments into semiconductors, clean energy, and infrastructure. There is a strong push for reshoring of manufacturing, especially in critical sectors like chips, pharmaceuticals, and batteries.\\n\\nHowever, economic leadership will depend on managing the national debt, reforming entitlement programs, upgrading infrastructure, and ensuring the next generation is equipped with digital-age skills. If the U.S. can handle these challenges, it is well-positioned to remain a global economic powerhouse through 2030 and beyond.\\n\\nFinal Summary\\nThe U.S. economy remains the engine of global growth, backed by unmatched innovation, financial dominance, and a strong institutional framework. Its $28 trillion GDP and influence over global finance, trade, and technology make it the centerpiece of the modern economic system. Yet, rising debt, inequality, political gridlock, and competition from emerging powers demand careful policy navigation. If successfully addressed, the U.S. will continue to dominate the global economy well into the future.\")]"
      ]
     },
     "execution_count": 7,
     "metadata": {},
     "output_type": "execute_result"
    }
   ],
   "source": [
    "docs"
   ]
  },
  {
   "cell_type": "code",
   "execution_count": 8,
   "metadata": {},
   "outputs": [
    {
     "data": {
      "text/plain": [
       "\"🇺🇸 Overview of the U.S. Economy\\nThe United States of America possesses the largest economy in the world in terms of nominal GDP, making it the most powerful economic force globally. It operates under a capitalist mixed economy, where the private sector dominates, but the government plays a significant regulatory and fiscal role. With a population of over 335 million people and a high level of technological advancement, the U.S. economy thrives on a foundation of consumer spending, innovation, global trade, and financial services. It has a highly diversified structure with strong sectors in technology, healthcare, finance, real estate, defense, and agriculture.\\n\\nU.S. GDP – Size, Composition, and Global Share\\nAs of 2024, the United States’ nominal GDP is estimated to be around $28 trillion USD, accounting for approximately 25% of the global economy. It ranks #1 in the world by nominal GDP, far ahead of China (which ranks 2nd). The U.S. GDP per capita is also among the highest, hovering around $83,000, which indicates a high standard of living and productivity. In terms of Purchasing Power Parity (PPP), the U.S. ranks second, but nominal GDP is considered more reflective of actual economic size and financial influence.\\n\\nThe GDP is predominantly driven by the services sector, which contributes more than 77% to the total GDP. This includes industries such as finance, insurance, real estate, healthcare, education, and information technology. The industrial sector (manufacturing, construction, mining) makes up around 19%, while agriculture, although technologically advanced and export-oriented, contributes only about 1%. Despite its small share in GDP, U.S. agriculture is globally significant in terms of productivity and exports.\\n\\nGDP Growth Trends and Dynamics\\nHistorically, the U.S. economy has enjoyed consistent long-term growth, averaging around 2-3% annually. Post-pandemic, the economy bounced back strongly, but 2022 and 2023 saw rising inflation due to supply chain issues and stimulus-driven demand. In 2024, the U.S. GDP grew at a modest pace of around 2.1%, as the Federal Reserve’s interest rate hikes aimed at controlling inflation also moderated economic expansion. Consumer spending, which makes up nearly 70% of GDP, remains a dominant force in economic stability.\\n\\nThe U.S. maintains its GDP growth through strong innovation, entrepreneurship, and investment in R&D. With companies like Apple, Google, Amazon, Microsoft, and Tesla leading global markets, the U.S. consistently produces high value across sectors, especially in technology and advanced services. Additionally, the economy benefits from intellectual property exports, financial services, and higher education, all of which contribute significantly to GDP through both domestic and international markets.\\n\\nRole in the Global Economy\\nThe U.S. Dollar (USD) is the global reserve currency, held by over 60% of the world’s central bank reserves. This gives the U.S. an enormous advantage in global trade and borrowing. The U.S. is a key member of international institutions like the World Bank, IMF, G7, G20, and WTO, and plays a central role in setting global economic policy.\\n\\nAs a global innovation hub, the U.S. attracts billions in foreign investment and hosts many of the world's largest and most valuable companies. Its exports include high-tech machinery, aircraft, pharmaceuticals, semiconductors, and financial services, while its imports cover consumer goods, electronics, automobiles, and industrial materials. The trade deficit remains large (around $900 billion in 2024), primarily because the U.S. consumes more than it exports, but its ability to finance this through capital inflows and reserve currency status sustains balance.\\n\\nKey Economic Strengths\\nThe core strength of the U.S. economy lies in its flexible labor market, deep capital markets, technological superiority, and legal system that encourages innovation and property rights. It has a large, highly educated workforce, a diverse immigration pipeline, and access to vast natural resources including oil, gas, coal, and farmland. The presence of top-tier universities and research institutions fuels the knowledge economy, with billions spent annually on R&D—over $700 billion USD, more than any other country.\\n\\nThe U.S. leads in many critical sectors, including software, biotechnology, aerospace, defense, financial services, and media. Its startup ecosystem, especially in Silicon Valley, produces unicorns and tech giants at a scale unmatched globally. Its financial markets—particularly Wall Street—are the most liquid and globally integrated in the world.\\n\\nChallenges and Structural Issues\\nDespite its strength, the U.S. economy faces several serious long-term issues. The national debt has surpassed $34 trillion USD, raising concerns about fiscal sustainability, especially as interest payments alone are growing rapidly. The income and wealth inequality gap has widened, with a small percentage of Americans owning a disproportionate share of wealth. Access to affordable healthcare, housing shortages, and a declining labor force participation in some sectors are additional structural issues.\\n\\nAnother growing concern is political polarization, which often stalls crucial economic reforms and budget agreements, as seen in recurrent debt ceiling crises. The U.S. also faces challenges from global competition, especially from China in areas like AI, semiconductors, and green technology. Moreover, climate change, cybersecurity threats, and geopolitical risks (like Ukraine and Taiwan conflicts) add layers of vulnerability to economic planning.\\n\\nFuture Outlook (2025–2030)\\nLooking forward, the U.S. economy is expected to grow at a moderate pace, powered by innovation in AI, green energy, robotics, biotech, and quantum computing. The Biden administration’s Inflation Reduction Act and CHIPS Act are pumping massive investments into semiconductors, clean energy, and infrastructure. There is a strong push for reshoring of manufacturing, especially in critical sectors like chips, pharmaceuticals, and batteries.\\n\\nHowever, economic leadership will depend on managing the national debt, reforming entitlement programs, upgrading infrastructure, and ensuring the next generation is equipped with digital-age skills. If the U.S. can handle these challenges, it is well-positioned to remain a global economic powerhouse through 2030 and beyond.\\n\\nFinal Summary\\nThe U.S. economy remains the engine of global growth, backed by unmatched innovation, financial dominance, and a strong institutional framework. Its $28 trillion GDP and influence over global finance, trade, and technology make it the centerpiece of the modern economic system. Yet, rising debt, inequality, political gridlock, and competition from emerging powers demand careful policy navigation. If successfully addressed, the U.S. will continue to dominate the global economy well into the future.\""
      ]
     },
     "execution_count": 8,
     "metadata": {},
     "output_type": "execute_result"
    }
   ],
   "source": [
    "docs[0].page_content"
   ]
  },
  {
   "cell_type": "markdown",
   "metadata": {},
   "source": [
    "##### 2. Chunking the Data"
   ]
  },
  {
   "cell_type": "code",
   "execution_count": 9,
   "metadata": {},
   "outputs": [],
   "source": [
    "text_splitter = RecursiveCharacterTextSplitter(chunk_size=200, chunk_overlap=50)"
   ]
  },
  {
   "cell_type": "code",
   "execution_count": 10,
   "metadata": {},
   "outputs": [],
   "source": [
    "new_docs = text_splitter.split_documents(documents=docs)"
   ]
  },
  {
   "cell_type": "code",
   "execution_count": 11,
   "metadata": {},
   "outputs": [
    {
     "data": {
      "text/plain": [
       "[Document(metadata={'source': '/Users/sanyuktatuti/Documents/AGENTIC_AI_Krish_Naik/3-LangGraph/data2/usa.txt'}, page_content='🇺🇸 Overview of the U.S. Economy'),\n",
       " Document(metadata={'source': '/Users/sanyuktatuti/Documents/AGENTIC_AI_Krish_Naik/3-LangGraph/data2/usa.txt'}, page_content='The United States of America possesses the largest economy in the world in terms of nominal GDP, making it the most powerful economic force globally. It operates under a capitalist mixed economy,'),\n",
       " Document(metadata={'source': '/Users/sanyuktatuti/Documents/AGENTIC_AI_Krish_Naik/3-LangGraph/data2/usa.txt'}, page_content='It operates under a capitalist mixed economy, where the private sector dominates, but the government plays a significant regulatory and fiscal role. With a population of over 335 million people and a'),\n",
       " Document(metadata={'source': '/Users/sanyuktatuti/Documents/AGENTIC_AI_Krish_Naik/3-LangGraph/data2/usa.txt'}, page_content='a population of over 335 million people and a high level of technological advancement, the U.S. economy thrives on a foundation of consumer spending, innovation, global trade, and financial services.'),\n",
       " Document(metadata={'source': '/Users/sanyuktatuti/Documents/AGENTIC_AI_Krish_Naik/3-LangGraph/data2/usa.txt'}, page_content='innovation, global trade, and financial services. It has a highly diversified structure with strong sectors in technology, healthcare, finance, real estate, defense, and agriculture.'),\n",
       " Document(metadata={'source': '/Users/sanyuktatuti/Documents/AGENTIC_AI_Krish_Naik/3-LangGraph/data2/usa.txt'}, page_content='U.S. GDP – Size, Composition, and Global Share'),\n",
       " Document(metadata={'source': '/Users/sanyuktatuti/Documents/AGENTIC_AI_Krish_Naik/3-LangGraph/data2/usa.txt'}, page_content='As of 2024, the United States’ nominal GDP is estimated to be around $28 trillion USD, accounting for approximately 25% of the global economy. It ranks #1 in the world by nominal GDP, far ahead of'),\n",
       " Document(metadata={'source': '/Users/sanyuktatuti/Documents/AGENTIC_AI_Krish_Naik/3-LangGraph/data2/usa.txt'}, page_content='#1 in the world by nominal GDP, far ahead of China (which ranks 2nd). The U.S. GDP per capita is also among the highest, hovering around $83,000, which indicates a high standard of living and'),\n",
       " Document(metadata={'source': '/Users/sanyuktatuti/Documents/AGENTIC_AI_Krish_Naik/3-LangGraph/data2/usa.txt'}, page_content='which indicates a high standard of living and productivity. In terms of Purchasing Power Parity (PPP), the U.S. ranks second, but nominal GDP is considered more reflective of actual economic size and'),\n",
       " Document(metadata={'source': '/Users/sanyuktatuti/Documents/AGENTIC_AI_Krish_Naik/3-LangGraph/data2/usa.txt'}, page_content='more reflective of actual economic size and financial influence.'),\n",
       " Document(metadata={'source': '/Users/sanyuktatuti/Documents/AGENTIC_AI_Krish_Naik/3-LangGraph/data2/usa.txt'}, page_content='The GDP is predominantly driven by the services sector, which contributes more than 77% to the total GDP. This includes industries such as finance, insurance, real estate, healthcare, education, and'),\n",
       " Document(metadata={'source': '/Users/sanyuktatuti/Documents/AGENTIC_AI_Krish_Naik/3-LangGraph/data2/usa.txt'}, page_content='real estate, healthcare, education, and information technology. The industrial sector (manufacturing, construction, mining) makes up around 19%, while agriculture, although technologically advanced'),\n",
       " Document(metadata={'source': '/Users/sanyuktatuti/Documents/AGENTIC_AI_Krish_Naik/3-LangGraph/data2/usa.txt'}, page_content='agriculture, although technologically advanced and export-oriented, contributes only about 1%. Despite its small share in GDP, U.S. agriculture is globally significant in terms of productivity and'),\n",
       " Document(metadata={'source': '/Users/sanyuktatuti/Documents/AGENTIC_AI_Krish_Naik/3-LangGraph/data2/usa.txt'}, page_content='globally significant in terms of productivity and exports.'),\n",
       " Document(metadata={'source': '/Users/sanyuktatuti/Documents/AGENTIC_AI_Krish_Naik/3-LangGraph/data2/usa.txt'}, page_content='GDP Growth Trends and Dynamics'),\n",
       " Document(metadata={'source': '/Users/sanyuktatuti/Documents/AGENTIC_AI_Krish_Naik/3-LangGraph/data2/usa.txt'}, page_content='Historically, the U.S. economy has enjoyed consistent long-term growth, averaging around 2-3% annually. Post-pandemic, the economy bounced back strongly, but 2022 and 2023 saw rising inflation due to'),\n",
       " Document(metadata={'source': '/Users/sanyuktatuti/Documents/AGENTIC_AI_Krish_Naik/3-LangGraph/data2/usa.txt'}, page_content='but 2022 and 2023 saw rising inflation due to supply chain issues and stimulus-driven demand. In 2024, the U.S. GDP grew at a modest pace of around 2.1%, as the Federal Reserve’s interest rate hikes'),\n",
       " Document(metadata={'source': '/Users/sanyuktatuti/Documents/AGENTIC_AI_Krish_Naik/3-LangGraph/data2/usa.txt'}, page_content='as the Federal Reserve’s interest rate hikes aimed at controlling inflation also moderated economic expansion. Consumer spending, which makes up nearly 70% of GDP, remains a dominant force in'),\n",
       " Document(metadata={'source': '/Users/sanyuktatuti/Documents/AGENTIC_AI_Krish_Naik/3-LangGraph/data2/usa.txt'}, page_content='up nearly 70% of GDP, remains a dominant force in economic stability.'),\n",
       " Document(metadata={'source': '/Users/sanyuktatuti/Documents/AGENTIC_AI_Krish_Naik/3-LangGraph/data2/usa.txt'}, page_content='The U.S. maintains its GDP growth through strong innovation, entrepreneurship, and investment in R&D. With companies like Apple, Google, Amazon, Microsoft, and Tesla leading global markets, the U.S.'),\n",
       " Document(metadata={'source': '/Users/sanyuktatuti/Documents/AGENTIC_AI_Krish_Naik/3-LangGraph/data2/usa.txt'}, page_content='and Tesla leading global markets, the U.S. consistently produces high value across sectors, especially in technology and advanced services. Additionally, the economy benefits from intellectual'),\n",
       " Document(metadata={'source': '/Users/sanyuktatuti/Documents/AGENTIC_AI_Krish_Naik/3-LangGraph/data2/usa.txt'}, page_content='the economy benefits from intellectual property exports, financial services, and higher education, all of which contribute significantly to GDP through both domestic and international markets.'),\n",
       " Document(metadata={'source': '/Users/sanyuktatuti/Documents/AGENTIC_AI_Krish_Naik/3-LangGraph/data2/usa.txt'}, page_content='Role in the Global Economy'),\n",
       " Document(metadata={'source': '/Users/sanyuktatuti/Documents/AGENTIC_AI_Krish_Naik/3-LangGraph/data2/usa.txt'}, page_content='The U.S. Dollar (USD) is the global reserve currency, held by over 60% of the world’s central bank reserves. This gives the U.S. an enormous advantage in global trade and borrowing. The U.S. is a key'),\n",
       " Document(metadata={'source': '/Users/sanyuktatuti/Documents/AGENTIC_AI_Krish_Naik/3-LangGraph/data2/usa.txt'}, page_content='in global trade and borrowing. The U.S. is a key member of international institutions like the World Bank, IMF, G7, G20, and WTO, and plays a central role in setting global economic policy.'),\n",
       " Document(metadata={'source': '/Users/sanyuktatuti/Documents/AGENTIC_AI_Krish_Naik/3-LangGraph/data2/usa.txt'}, page_content=\"As a global innovation hub, the U.S. attracts billions in foreign investment and hosts many of the world's largest and most valuable companies. Its exports include high-tech machinery, aircraft,\"),\n",
       " Document(metadata={'source': '/Users/sanyuktatuti/Documents/AGENTIC_AI_Krish_Naik/3-LangGraph/data2/usa.txt'}, page_content='exports include high-tech machinery, aircraft, pharmaceuticals, semiconductors, and financial services, while its imports cover consumer goods, electronics, automobiles, and industrial materials. The'),\n",
       " Document(metadata={'source': '/Users/sanyuktatuti/Documents/AGENTIC_AI_Krish_Naik/3-LangGraph/data2/usa.txt'}, page_content='automobiles, and industrial materials. The trade deficit remains large (around $900 billion in 2024), primarily because the U.S. consumes more than it exports, but its ability to finance this through'),\n",
       " Document(metadata={'source': '/Users/sanyuktatuti/Documents/AGENTIC_AI_Krish_Naik/3-LangGraph/data2/usa.txt'}, page_content='exports, but its ability to finance this through capital inflows and reserve currency status sustains balance.'),\n",
       " Document(metadata={'source': '/Users/sanyuktatuti/Documents/AGENTIC_AI_Krish_Naik/3-LangGraph/data2/usa.txt'}, page_content='Key Economic Strengths'),\n",
       " Document(metadata={'source': '/Users/sanyuktatuti/Documents/AGENTIC_AI_Krish_Naik/3-LangGraph/data2/usa.txt'}, page_content='The core strength of the U.S. economy lies in its flexible labor market, deep capital markets, technological superiority, and legal system that encourages innovation and property rights. It has a'),\n",
       " Document(metadata={'source': '/Users/sanyuktatuti/Documents/AGENTIC_AI_Krish_Naik/3-LangGraph/data2/usa.txt'}, page_content='innovation and property rights. It has a large, highly educated workforce, a diverse immigration pipeline, and access to vast natural resources including oil, gas, coal, and farmland. The presence of'),\n",
       " Document(metadata={'source': '/Users/sanyuktatuti/Documents/AGENTIC_AI_Krish_Naik/3-LangGraph/data2/usa.txt'}, page_content='oil, gas, coal, and farmland. The presence of top-tier universities and research institutions fuels the knowledge economy, with billions spent annually on R&D—over $700 billion USD, more than any'),\n",
       " Document(metadata={'source': '/Users/sanyuktatuti/Documents/AGENTIC_AI_Krish_Naik/3-LangGraph/data2/usa.txt'}, page_content='on R&D—over $700 billion USD, more than any other country.'),\n",
       " Document(metadata={'source': '/Users/sanyuktatuti/Documents/AGENTIC_AI_Krish_Naik/3-LangGraph/data2/usa.txt'}, page_content='The U.S. leads in many critical sectors, including software, biotechnology, aerospace, defense, financial services, and media. Its startup ecosystem, especially in Silicon Valley, produces unicorns'),\n",
       " Document(metadata={'source': '/Users/sanyuktatuti/Documents/AGENTIC_AI_Krish_Naik/3-LangGraph/data2/usa.txt'}, page_content='especially in Silicon Valley, produces unicorns and tech giants at a scale unmatched globally. Its financial markets—particularly Wall Street—are the most liquid and globally integrated in the world.'),\n",
       " Document(metadata={'source': '/Users/sanyuktatuti/Documents/AGENTIC_AI_Krish_Naik/3-LangGraph/data2/usa.txt'}, page_content='Challenges and Structural Issues'),\n",
       " Document(metadata={'source': '/Users/sanyuktatuti/Documents/AGENTIC_AI_Krish_Naik/3-LangGraph/data2/usa.txt'}, page_content='Despite its strength, the U.S. economy faces several serious long-term issues. The national debt has surpassed $34 trillion USD, raising concerns about fiscal sustainability, especially as interest'),\n",
       " Document(metadata={'source': '/Users/sanyuktatuti/Documents/AGENTIC_AI_Krish_Naik/3-LangGraph/data2/usa.txt'}, page_content='fiscal sustainability, especially as interest payments alone are growing rapidly. The income and wealth inequality gap has widened, with a small percentage of Americans owning a disproportionate'),\n",
       " Document(metadata={'source': '/Users/sanyuktatuti/Documents/AGENTIC_AI_Krish_Naik/3-LangGraph/data2/usa.txt'}, page_content='percentage of Americans owning a disproportionate share of wealth. Access to affordable healthcare, housing shortages, and a declining labor force participation in some sectors are additional'),\n",
       " Document(metadata={'source': '/Users/sanyuktatuti/Documents/AGENTIC_AI_Krish_Naik/3-LangGraph/data2/usa.txt'}, page_content='participation in some sectors are additional structural issues.'),\n",
       " Document(metadata={'source': '/Users/sanyuktatuti/Documents/AGENTIC_AI_Krish_Naik/3-LangGraph/data2/usa.txt'}, page_content='Another growing concern is political polarization, which often stalls crucial economic reforms and budget agreements, as seen in recurrent debt ceiling crises. The U.S. also faces challenges from'),\n",
       " Document(metadata={'source': '/Users/sanyuktatuti/Documents/AGENTIC_AI_Krish_Naik/3-LangGraph/data2/usa.txt'}, page_content='crises. The U.S. also faces challenges from global competition, especially from China in areas like AI, semiconductors, and green technology. Moreover, climate change, cybersecurity threats, and'),\n",
       " Document(metadata={'source': '/Users/sanyuktatuti/Documents/AGENTIC_AI_Krish_Naik/3-LangGraph/data2/usa.txt'}, page_content='climate change, cybersecurity threats, and geopolitical risks (like Ukraine and Taiwan conflicts) add layers of vulnerability to economic planning.'),\n",
       " Document(metadata={'source': '/Users/sanyuktatuti/Documents/AGENTIC_AI_Krish_Naik/3-LangGraph/data2/usa.txt'}, page_content='Future Outlook (2025–2030)'),\n",
       " Document(metadata={'source': '/Users/sanyuktatuti/Documents/AGENTIC_AI_Krish_Naik/3-LangGraph/data2/usa.txt'}, page_content='Looking forward, the U.S. economy is expected to grow at a moderate pace, powered by innovation in AI, green energy, robotics, biotech, and quantum computing. The Biden administration’s Inflation'),\n",
       " Document(metadata={'source': '/Users/sanyuktatuti/Documents/AGENTIC_AI_Krish_Naik/3-LangGraph/data2/usa.txt'}, page_content='computing. The Biden administration’s Inflation Reduction Act and CHIPS Act are pumping massive investments into semiconductors, clean energy, and infrastructure. There is a strong push for reshoring'),\n",
       " Document(metadata={'source': '/Users/sanyuktatuti/Documents/AGENTIC_AI_Krish_Naik/3-LangGraph/data2/usa.txt'}, page_content='There is a strong push for reshoring of manufacturing, especially in critical sectors like chips, pharmaceuticals, and batteries.'),\n",
       " Document(metadata={'source': '/Users/sanyuktatuti/Documents/AGENTIC_AI_Krish_Naik/3-LangGraph/data2/usa.txt'}, page_content='However, economic leadership will depend on managing the national debt, reforming entitlement programs, upgrading infrastructure, and ensuring the next generation is equipped with digital-age skills.'),\n",
       " Document(metadata={'source': '/Users/sanyuktatuti/Documents/AGENTIC_AI_Krish_Naik/3-LangGraph/data2/usa.txt'}, page_content='generation is equipped with digital-age skills. If the U.S. can handle these challenges, it is well-positioned to remain a global economic powerhouse through 2030 and beyond.'),\n",
       " Document(metadata={'source': '/Users/sanyuktatuti/Documents/AGENTIC_AI_Krish_Naik/3-LangGraph/data2/usa.txt'}, page_content='Final Summary'),\n",
       " Document(metadata={'source': '/Users/sanyuktatuti/Documents/AGENTIC_AI_Krish_Naik/3-LangGraph/data2/usa.txt'}, page_content='The U.S. economy remains the engine of global growth, backed by unmatched innovation, financial dominance, and a strong institutional framework. Its $28 trillion GDP and influence over global'),\n",
       " Document(metadata={'source': '/Users/sanyuktatuti/Documents/AGENTIC_AI_Krish_Naik/3-LangGraph/data2/usa.txt'}, page_content='Its $28 trillion GDP and influence over global finance, trade, and technology make it the centerpiece of the modern economic system. Yet, rising debt, inequality, political gridlock, and competition'),\n",
       " Document(metadata={'source': '/Users/sanyuktatuti/Documents/AGENTIC_AI_Krish_Naik/3-LangGraph/data2/usa.txt'}, page_content='inequality, political gridlock, and competition from emerging powers demand careful policy navigation. If successfully addressed, the U.S. will continue to dominate the global economy well into the'),\n",
       " Document(metadata={'source': '/Users/sanyuktatuti/Documents/AGENTIC_AI_Krish_Naik/3-LangGraph/data2/usa.txt'}, page_content='to dominate the global economy well into the future.')]"
      ]
     },
     "execution_count": 11,
     "metadata": {},
     "output_type": "execute_result"
    }
   ],
   "source": [
    "new_docs"
   ]
  },
  {
   "cell_type": "code",
   "execution_count": 12,
   "metadata": {},
   "outputs": [],
   "source": [
    "doc_string = [docs.page_content for docs in new_docs]"
   ]
  },
  {
   "cell_type": "code",
   "execution_count": 13,
   "metadata": {},
   "outputs": [
    {
     "data": {
      "text/plain": [
       "['🇺🇸 Overview of the U.S. Economy',\n",
       " 'The United States of America possesses the largest economy in the world in terms of nominal GDP, making it the most powerful economic force globally. It operates under a capitalist mixed economy,',\n",
       " 'It operates under a capitalist mixed economy, where the private sector dominates, but the government plays a significant regulatory and fiscal role. With a population of over 335 million people and a',\n",
       " 'a population of over 335 million people and a high level of technological advancement, the U.S. economy thrives on a foundation of consumer spending, innovation, global trade, and financial services.',\n",
       " 'innovation, global trade, and financial services. It has a highly diversified structure with strong sectors in technology, healthcare, finance, real estate, defense, and agriculture.',\n",
       " 'U.S. GDP – Size, Composition, and Global Share',\n",
       " 'As of 2024, the United States’ nominal GDP is estimated to be around $28 trillion USD, accounting for approximately 25% of the global economy. It ranks #1 in the world by nominal GDP, far ahead of',\n",
       " '#1 in the world by nominal GDP, far ahead of China (which ranks 2nd). The U.S. GDP per capita is also among the highest, hovering around $83,000, which indicates a high standard of living and',\n",
       " 'which indicates a high standard of living and productivity. In terms of Purchasing Power Parity (PPP), the U.S. ranks second, but nominal GDP is considered more reflective of actual economic size and',\n",
       " 'more reflective of actual economic size and financial influence.',\n",
       " 'The GDP is predominantly driven by the services sector, which contributes more than 77% to the total GDP. This includes industries such as finance, insurance, real estate, healthcare, education, and',\n",
       " 'real estate, healthcare, education, and information technology. The industrial sector (manufacturing, construction, mining) makes up around 19%, while agriculture, although technologically advanced',\n",
       " 'agriculture, although technologically advanced and export-oriented, contributes only about 1%. Despite its small share in GDP, U.S. agriculture is globally significant in terms of productivity and',\n",
       " 'globally significant in terms of productivity and exports.',\n",
       " 'GDP Growth Trends and Dynamics',\n",
       " 'Historically, the U.S. economy has enjoyed consistent long-term growth, averaging around 2-3% annually. Post-pandemic, the economy bounced back strongly, but 2022 and 2023 saw rising inflation due to',\n",
       " 'but 2022 and 2023 saw rising inflation due to supply chain issues and stimulus-driven demand. In 2024, the U.S. GDP grew at a modest pace of around 2.1%, as the Federal Reserve’s interest rate hikes',\n",
       " 'as the Federal Reserve’s interest rate hikes aimed at controlling inflation also moderated economic expansion. Consumer spending, which makes up nearly 70% of GDP, remains a dominant force in',\n",
       " 'up nearly 70% of GDP, remains a dominant force in economic stability.',\n",
       " 'The U.S. maintains its GDP growth through strong innovation, entrepreneurship, and investment in R&D. With companies like Apple, Google, Amazon, Microsoft, and Tesla leading global markets, the U.S.',\n",
       " 'and Tesla leading global markets, the U.S. consistently produces high value across sectors, especially in technology and advanced services. Additionally, the economy benefits from intellectual',\n",
       " 'the economy benefits from intellectual property exports, financial services, and higher education, all of which contribute significantly to GDP through both domestic and international markets.',\n",
       " 'Role in the Global Economy',\n",
       " 'The U.S. Dollar (USD) is the global reserve currency, held by over 60% of the world’s central bank reserves. This gives the U.S. an enormous advantage in global trade and borrowing. The U.S. is a key',\n",
       " 'in global trade and borrowing. The U.S. is a key member of international institutions like the World Bank, IMF, G7, G20, and WTO, and plays a central role in setting global economic policy.',\n",
       " \"As a global innovation hub, the U.S. attracts billions in foreign investment and hosts many of the world's largest and most valuable companies. Its exports include high-tech machinery, aircraft,\",\n",
       " 'exports include high-tech machinery, aircraft, pharmaceuticals, semiconductors, and financial services, while its imports cover consumer goods, electronics, automobiles, and industrial materials. The',\n",
       " 'automobiles, and industrial materials. The trade deficit remains large (around $900 billion in 2024), primarily because the U.S. consumes more than it exports, but its ability to finance this through',\n",
       " 'exports, but its ability to finance this through capital inflows and reserve currency status sustains balance.',\n",
       " 'Key Economic Strengths',\n",
       " 'The core strength of the U.S. economy lies in its flexible labor market, deep capital markets, technological superiority, and legal system that encourages innovation and property rights. It has a',\n",
       " 'innovation and property rights. It has a large, highly educated workforce, a diverse immigration pipeline, and access to vast natural resources including oil, gas, coal, and farmland. The presence of',\n",
       " 'oil, gas, coal, and farmland. The presence of top-tier universities and research institutions fuels the knowledge economy, with billions spent annually on R&D—over $700 billion USD, more than any',\n",
       " 'on R&D—over $700 billion USD, more than any other country.',\n",
       " 'The U.S. leads in many critical sectors, including software, biotechnology, aerospace, defense, financial services, and media. Its startup ecosystem, especially in Silicon Valley, produces unicorns',\n",
       " 'especially in Silicon Valley, produces unicorns and tech giants at a scale unmatched globally. Its financial markets—particularly Wall Street—are the most liquid and globally integrated in the world.',\n",
       " 'Challenges and Structural Issues',\n",
       " 'Despite its strength, the U.S. economy faces several serious long-term issues. The national debt has surpassed $34 trillion USD, raising concerns about fiscal sustainability, especially as interest',\n",
       " 'fiscal sustainability, especially as interest payments alone are growing rapidly. The income and wealth inequality gap has widened, with a small percentage of Americans owning a disproportionate',\n",
       " 'percentage of Americans owning a disproportionate share of wealth. Access to affordable healthcare, housing shortages, and a declining labor force participation in some sectors are additional',\n",
       " 'participation in some sectors are additional structural issues.',\n",
       " 'Another growing concern is political polarization, which often stalls crucial economic reforms and budget agreements, as seen in recurrent debt ceiling crises. The U.S. also faces challenges from',\n",
       " 'crises. The U.S. also faces challenges from global competition, especially from China in areas like AI, semiconductors, and green technology. Moreover, climate change, cybersecurity threats, and',\n",
       " 'climate change, cybersecurity threats, and geopolitical risks (like Ukraine and Taiwan conflicts) add layers of vulnerability to economic planning.',\n",
       " 'Future Outlook (2025–2030)',\n",
       " 'Looking forward, the U.S. economy is expected to grow at a moderate pace, powered by innovation in AI, green energy, robotics, biotech, and quantum computing. The Biden administration’s Inflation',\n",
       " 'computing. The Biden administration’s Inflation Reduction Act and CHIPS Act are pumping massive investments into semiconductors, clean energy, and infrastructure. There is a strong push for reshoring',\n",
       " 'There is a strong push for reshoring of manufacturing, especially in critical sectors like chips, pharmaceuticals, and batteries.',\n",
       " 'However, economic leadership will depend on managing the national debt, reforming entitlement programs, upgrading infrastructure, and ensuring the next generation is equipped with digital-age skills.',\n",
       " 'generation is equipped with digital-age skills. If the U.S. can handle these challenges, it is well-positioned to remain a global economic powerhouse through 2030 and beyond.',\n",
       " 'Final Summary',\n",
       " 'The U.S. economy remains the engine of global growth, backed by unmatched innovation, financial dominance, and a strong institutional framework. Its $28 trillion GDP and influence over global',\n",
       " 'Its $28 trillion GDP and influence over global finance, trade, and technology make it the centerpiece of the modern economic system. Yet, rising debt, inequality, political gridlock, and competition',\n",
       " 'inequality, political gridlock, and competition from emerging powers demand careful policy navigation. If successfully addressed, the U.S. will continue to dominate the global economy well into the',\n",
       " 'to dominate the global economy well into the future.']"
      ]
     },
     "execution_count": 13,
     "metadata": {},
     "output_type": "execute_result"
    }
   ],
   "source": [
    "doc_string"
   ]
  },
  {
   "cell_type": "code",
   "execution_count": 14,
   "metadata": {},
   "outputs": [
    {
     "data": {
      "text/plain": [
       "55"
      ]
     },
     "execution_count": 14,
     "metadata": {},
     "output_type": "execute_result"
    }
   ],
   "source": [
    "len(doc_string)"
   ]
  },
  {
   "cell_type": "markdown",
   "metadata": {},
   "source": [
    "##### 3. Storing the embedded data chunks in ChromaDB"
   ]
  },
  {
   "cell_type": "markdown",
   "metadata": {},
   "source": [
    "**Note:** If you see telemetry warnings like \"Failed to send telemetry event\", these are harmless and don't affect functionality. We've disabled telemetry below to avoid these warnings."
   ]
  },
  {
   "cell_type": "code",
   "execution_count": 15,
   "metadata": {},
   "outputs": [],
   "source": [
    "# Suppress ChromaDB telemetry warnings\n",
    "import io\n",
    "import sys\n",
    "import contextlib\n",
    "\n",
    "@contextlib.contextmanager\n",
    "def suppress_stdout_stderr():\n",
    "    \"\"\"Context manager to suppress stdout and stderr temporarily\"\"\"\n",
    "    old_stdout, old_stderr = sys.stdout, sys.stderr\n",
    "    try:\n",
    "        sys.stdout = sys.stderr = io.StringIO()\n",
    "        yield\n",
    "    finally:\n",
    "        sys.stdout, sys.stderr = old_stdout, old_stderr"
   ]
  },
  {
   "cell_type": "code",
   "execution_count": 16,
   "metadata": {},
   "outputs": [
    {
     "name": "stdout",
     "output_type": "stream",
     "text": [
      "Creating ChromaDB vector database...\n",
      "✅ ChromaDB created successfully!\n"
     ]
    }
   ],
   "source": [
    "# Create ChromaDB while suppressing telemetry output\n",
    "\n",
    "print(\"Creating ChromaDB vector database...\")\n",
    "with suppress_stdout_stderr():\n",
    "    db = Chroma.from_documents(new_docs, embeddings)\n",
    "    \n",
    "print(\"✅ ChromaDB created successfully!\")"
   ]
  },
  {
   "cell_type": "code",
   "execution_count": 17,
   "metadata": {},
   "outputs": [],
   "source": [
    "retriever = db.as_retriever(search_kwargs={\"k\": 3})"
   ]
  },
  {
   "cell_type": "code",
   "execution_count": 18,
   "metadata": {},
   "outputs": [
    {
     "name": "stderr",
     "output_type": "stream",
     "text": [
      "Failed to send telemetry event CollectionQueryEvent: capture() takes 1 positional argument but 3 were given\n"
     ]
    },
    {
     "data": {
      "text/plain": [
       "[Document(metadata={'source': '/Users/sanyuktatuti/Documents/AGENTIC_AI_Krish_Naik/3-LangGraph/data2/usa.txt'}, page_content='Looking forward, the U.S. economy is expected to grow at a moderate pace, powered by innovation in AI, green energy, robotics, biotech, and quantum computing. The Biden administration’s Inflation'),\n",
       " Document(metadata={'source': '/Users/sanyuktatuti/Documents/AGENTIC_AI_Krish_Naik/3-LangGraph/data2/usa.txt'}, page_content='The U.S. economy remains the engine of global growth, backed by unmatched innovation, financial dominance, and a strong institutional framework. Its $28 trillion GDP and influence over global'),\n",
       " Document(metadata={'source': '/Users/sanyuktatuti/Documents/AGENTIC_AI_Krish_Naik/3-LangGraph/data2/usa.txt'}, page_content='The U.S. maintains its GDP growth through strong innovation, entrepreneurship, and investment in R&D. With companies like Apple, Google, Amazon, Microsoft, and Tesla leading global markets, the U.S.')]"
      ]
     },
     "execution_count": 18,
     "metadata": {},
     "output_type": "execute_result"
    }
   ],
   "source": [
    "retriever.invoke(\"What is industrial growth of USA?\")"
   ]
  },
  {
   "cell_type": "markdown",
   "metadata": {},
   "source": [
    "______________________\n",
    "\n",
    "#### Langgraph Workflow Creation"
   ]
  },
  {
   "cell_type": "markdown",
   "metadata": {},
   "source": [
    "##### 1. Creating Pydantic Class for Data Input/Output Validation"
   ]
  },
  {
   "cell_type": "code",
   "execution_count": 62,
   "metadata": {},
   "outputs": [],
   "source": [
    "import operator\n",
    "from typing import List\n",
    "from pydantic import BaseModel, Field\n",
    "from typing import TypedDict, Annotated, Sequence\n",
    "from langchain_core.messages import BaseMessage, HumanMessage, AIMessage\n",
    "from langchain.prompts import PromptTemplate\n",
    "from langchain_core.output_parsers import StrOutputParser, PydanticOutputParser\n",
    "from langchain_core.runnables import RunnablePassthrough\n",
    "from langgraph.graph import StateGraph, START, END\n",
    "\n"
   ]
  },
  {
   "cell_type": "code",
   "execution_count": 20,
   "metadata": {},
   "outputs": [],
   "source": [
    "class TopicSelectionParser(BaseModel):\n",
    "    Topic: str = Field(description=\"Selected Topic\")\n",
    "    Reasoning: str = Field(description=\"Reasoning for selecting the topic\")"
   ]
  },
  {
   "cell_type": "code",
   "execution_count": 22,
   "metadata": {},
   "outputs": [],
   "source": [
    "parser = PydanticOutputParser(pydantic_object=TopicSelectionParser)"
   ]
  },
  {
   "cell_type": "code",
   "execution_count": 23,
   "metadata": {},
   "outputs": [
    {
     "data": {
      "text/plain": [
       "'The output should be formatted as a JSON instance that conforms to the JSON schema below.\\n\\nAs an example, for the schema {\"properties\": {\"foo\": {\"title\": \"Foo\", \"description\": \"a list of strings\", \"type\": \"array\", \"items\": {\"type\": \"string\"}}}, \"required\": [\"foo\"]}\\nthe object {\"foo\": [\"bar\", \"baz\"]} is a well-formatted instance of the schema. The object {\"properties\": {\"foo\": [\"bar\", \"baz\"]}} is not well-formatted.\\n\\nHere is the output schema:\\n```\\n{\"properties\": {\"Topic\": {\"description\": \"Selected Topic\", \"title\": \"Topic\", \"type\": \"string\"}, \"Reasoning\": {\"description\": \"Reasoning for selecting the topic\", \"title\": \"Reasoning\", \"type\": \"string\"}}, \"required\": [\"Topic\", \"Reasoning\"]}\\n```'"
      ]
     },
     "execution_count": 23,
     "metadata": {},
     "output_type": "execute_result"
    }
   ],
   "source": [
    "parser.get_format_instructions()"
   ]
  },
  {
   "cell_type": "markdown",
   "metadata": {},
   "source": [
    "'The output should be formatted as a JSON instance that conforms to the JSON schema below.\\n\\nAs an example, for the schema {\"properties\": {\"foo\": {\"title\": \"Foo\", \"description\": \"a list of strings\", \"type\": \"array\", \"items\": {\"type\": \"string\"}}}, \"required\": [\"foo\"]}\\nthe object {\"foo\": [\"bar\", \"baz\"]} is a well-formatted instance of the schema. The object {\"properties\": {\"foo\": [\"bar\", \"baz\"]}} is not well-formatted.\\n\\nHere is the output schema:\\n```\\n{\"properties\": {\"Topic\": {\"description\": \"Selected Topic\", \"title\": \"Topic\", \"type\": \"string\"}, \"Reasoning\": {\"description\": \"Reasoning for selecting the topic\", \"title\": \"Reasoning\", \"type\": \"string\"}}, \"required\": [\"Topic\", \"Reasoning\"]}\\n```'"
   ]
  },
  {
   "cell_type": "markdown",
   "metadata": {},
   "source": [
    "\n",
    "##### 2. We create ```AgentState``` to create flow if input through different Nodes"
   ]
  },
  {
   "cell_type": "code",
   "execution_count": 24,
   "metadata": {},
   "outputs": [],
   "source": [
    "class Agentstate(TypedDict):\n",
    "    messages: Annotated[Sequence[BaseMessage], operator.add]"
   ]
  },
  {
   "cell_type": "markdown",
   "metadata": {},
   "source": [
    "##### 2.1 Understanding the concept of ```Agentstate```:"
   ]
  },
  {
   "cell_type": "code",
   "execution_count": 25,
   "metadata": {},
   "outputs": [],
   "source": [
    "# Created a dictionary to store the state of the agent\n",
    "\n",
    "AgentState={}"
   ]
  },
  {
   "cell_type": "code",
   "execution_count": 26,
   "metadata": {},
   "outputs": [],
   "source": [
    "# Created a key called ```messages``` in the Agentstate dictionary\n",
    "# Assigned an empty list value to the key ```messages```\n",
    "\n",
    "AgentState [\"messages\"]=[]"
   ]
  },
  {
   "cell_type": "code",
   "execution_count": 27,
   "metadata": {},
   "outputs": [
    {
     "data": {
      "text/plain": [
       "{'messages': []}"
      ]
     },
     "execution_count": 27,
     "metadata": {},
     "output_type": "execute_result"
    }
   ],
   "source": [
    "AgentState"
   ]
  },
  {
   "cell_type": "code",
   "execution_count": 28,
   "metadata": {},
   "outputs": [],
   "source": [
    "# Appending values to the Agentstate dictionary to the key ```messages```\n",
    "\n",
    "AgentState[\"messages\"].append(\"Hi, how are you?\")"
   ]
  },
  {
   "cell_type": "code",
   "execution_count": 29,
   "metadata": {},
   "outputs": [
    {
     "data": {
      "text/plain": [
       "{'messages': ['Hi, how are you?']}"
      ]
     },
     "execution_count": 29,
     "metadata": {},
     "output_type": "execute_result"
    }
   ],
   "source": [
    "AgentState"
   ]
  },
  {
   "cell_type": "code",
   "execution_count": 30,
   "metadata": {},
   "outputs": [],
   "source": [
    "AgentState[\"messages\"].append(\"What are you doing?\")"
   ]
  },
  {
   "cell_type": "code",
   "execution_count": 31,
   "metadata": {},
   "outputs": [
    {
     "data": {
      "text/plain": [
       "{'messages': ['Hi, how are you?', 'What are you doing?']}"
      ]
     },
     "execution_count": 31,
     "metadata": {},
     "output_type": "execute_result"
    }
   ],
   "source": [
    "AgentState"
   ]
  },
  {
   "cell_type": "code",
   "execution_count": 32,
   "metadata": {},
   "outputs": [],
   "source": [
    "AgentState[\"messages\"].append(\"I hope everything is going well\")"
   ]
  },
  {
   "cell_type": "code",
   "execution_count": 33,
   "metadata": {},
   "outputs": [
    {
     "data": {
      "text/plain": [
       "{'messages': ['Hi, how are you?',\n",
       "  'What are you doing?',\n",
       "  'I hope everything is going well']}"
      ]
     },
     "execution_count": 33,
     "metadata": {},
     "output_type": "execute_result"
    }
   ],
   "source": [
    "AgentState"
   ]
  },
  {
   "cell_type": "code",
   "execution_count": 34,
   "metadata": {},
   "outputs": [],
   "source": [
    "# class AgentState(TypedDict):\n",
    "#    messages: Annotated[Sequence[BaseMessage], operator.add]\n",
    "\n",
    "# class Agentstate(TypedDict): \n",
    "# We have an Agentstate of type dictionary (TypedDict)\n",
    "\n",
    "# messages: Annotated[Sequence[BaseMessage], operator.add]\n",
    "# here we have a key called messages in the Agentstate dictionary\n",
    "\n",
    "# Annotated[Sequence[BaseMessage], operator.add] is a validation\n",
    "# Annotated means that the value of the key messages should be a sequence of BaseMessage\n",
    "# Here, example of list of BaseMessage: ['Hi, how are you?', 'What are you doing?','I hope everything is going well']\n",
    "\n",
    "# Sequence[BaseMessage] means that the value of the key messages should be a sequence of BaseMessage\n",
    "# BaseMessage is a class that represents a message in the agent state\n",
    "\n",
    "# operator.add is a function that adds two BaseMessage objects together\n",
    "\n",
    "# TypedDict is a class that represents a dictionary with typed keys and values"
   ]
  },
  {
   "cell_type": "code",
   "execution_count": 35,
   "metadata": {},
   "outputs": [
    {
     "data": {
      "text/plain": [
       "'I hope everything is going well'"
      ]
     },
     "execution_count": 35,
     "metadata": {},
     "output_type": "execute_result"
    }
   ],
   "source": [
    "AgentState[\"messages\"][-1]\n",
    "\n",
    "# returns the last message in the list"
   ]
  },
  {
   "cell_type": "code",
   "execution_count": 36,
   "metadata": {},
   "outputs": [
    {
     "data": {
      "text/plain": [
       "'Hi, how are you?'"
      ]
     },
     "execution_count": 36,
     "metadata": {},
     "output_type": "execute_result"
    }
   ],
   "source": [
    "AgentState[\"messages\"][0]\n",
    "\n",
    "# returns the first message in the list"
   ]
  },
  {
   "cell_type": "markdown",
   "metadata": {},
   "source": [
    "#### 3. Creating Nodes"
   ]
  },
  {
   "cell_type": "markdown",
   "metadata": {},
   "source": [
    "When we create Nodes we define the state of the Nodes, here the state belongs class Agentstate.\n",
    "\n"
   ]
  },
  {
   "cell_type": "code",
   "execution_count": 37,
   "metadata": {},
   "outputs": [],
   "source": [
    "from langchain_core.prompts import PromptTemplate"
   ]
  },
  {
   "cell_type": "code",
   "execution_count": 38,
   "metadata": {},
   "outputs": [],
   "source": [
    "def function1(state: Agentstate):\n",
    "    \n",
    "    # Supervisor function - unerstands teh context of the question if it is related to USA or not\n",
    "\n",
    "    # [\"messages\"][-1] fetches the last message in the list\n",
    "    question = state[\"messages\"][-1]\n",
    "\n",
    "    print(\"Question: \", question)\n",
    "\n",
    "    template = \"\"\"Your task is to classify the given user query into one of the following categories: [USA, Not Related. Only respond with the category name and nothing else]\n",
    "    \n",
    "    User Query: {question}\n",
    "    \n",
    "    Please respond in the following JSON format:\n",
    "    {format_instructions}\"\"\"\n",
    "\n",
    "    prompt = PromptTemplate(\n",
    "        template=template,  # Fixed: Use the actual template\n",
    "        input_variables=[\"question\"],  # Fixed: input_variables (plural)\n",
    "        partial_variables={\"format_instructions\": parser.get_format_instructions()}\n",
    "    )\n",
    "\n",
    "    chain = prompt | model | parser\n",
    "\n",
    "    response = chain.invoke({\"question\": question})\n",
    "\n",
    "    print(\"Parsed response\", response)\n",
    "\n",
    "    return {\"messages\": [response.Topic]}\n",
    "    # Here we are returning the Topic from the response, the \"Topic\" is the Pydantic parser class we created earlier.\n",
    "\n"
   ]
  },
  {
   "cell_type": "code",
   "execution_count": 39,
   "metadata": {},
   "outputs": [
    {
     "name": "stdout",
     "output_type": "stream",
     "text": [
      "Question:  What is today's weather?\n",
      "Parsed response Topic='Not Related' Reasoning='The query is a general weather question, not specific to the USA.'\n"
     ]
    },
    {
     "data": {
      "text/plain": [
       "{'messages': ['Not Related']}"
      ]
     },
     "execution_count": 39,
     "metadata": {},
     "output_type": "execute_result"
    }
   ],
   "source": [
    "state={\"messages\": [\"What is today's weather?\"]}\n",
    "\n",
    "function1(state)"
   ]
  },
  {
   "cell_type": "code",
   "execution_count": 40,
   "metadata": {},
   "outputs": [
    {
     "name": "stdout",
     "output_type": "stream",
     "text": [
      "Question:  What is the GDP of the USA?\n",
      "Parsed response Topic='USA' Reasoning='The query explicitly asks for the GDP of the USA.'\n"
     ]
    },
    {
     "data": {
      "text/plain": [
       "{'messages': ['USA']}"
      ]
     },
     "execution_count": 40,
     "metadata": {},
     "output_type": "execute_result"
    }
   ],
   "source": [
    "state={\"messages\": [\"What is the GDP of the USA?\"]}\n",
    "\n",
    "function1(state)"
   ]
  },
  {
   "cell_type": "code",
   "execution_count": 41,
   "metadata": {},
   "outputs": [],
   "source": [
    "def router(state: Agentstate):\n",
    "\n",
    "    # Router function - decides whether to route to RAG or LLM based on the last message in the list returned by the function1\n",
    "\n",
    "    print(\"-> Router ->\")\n",
    "\n",
    "    last_message=state[\"messages\"][-1]\n",
    "    print(\"Last message: \", last_message)\n",
    "\n",
    "    if\"usa\" in last_message.lower():\n",
    "        return \"RAG Call\"\n",
    "    else:\n",
    "        return \"LLM Call\""
   ]
  },
  {
   "cell_type": "code",
   "execution_count": 42,
   "metadata": {},
   "outputs": [],
   "source": [
    "def format_docs(docs):\n",
    "    return \"\\n\\n\".join([doc.page_content for doc in docs])"
   ]
  },
  {
   "cell_type": "code",
   "execution_count": 43,
   "metadata": {},
   "outputs": [],
   "source": [
    "def function2(state: Agentstate):\n",
    "\n",
    "    # RAG FUNCTION\n",
    "    \n",
    "    print(\"-> RAG Call ->\")\n",
    "    \n",
    "    # Get the question from state\n",
    "    question = state[\"messages\"][0]\n",
    "    print(\"Question:\", question)\n",
    "    \n",
    "    try:\n",
    "        # First get relevant documents using the retriever\n",
    "        docs = retriever.get_relevant_documents(str(question))  # Ensure question is a string\n",
    "        context = format_docs(docs)\n",
    "        print(\"Retrieved relevant documents\")\n",
    "\n",
    "        # retriever.get_relevant_documents(str(question)):\n",
    "        # retriever is our ChromaDB retriever that we set up earlier with k=3 (meaning it will return the 3 most relevant documents)\n",
    "        # str(question) converts the question to a string to ensure the retriever gets the right format\n",
    "        # This function uses the HuggingFace embeddings (BAAI/bge-small-en) to:\n",
    "        # Convert the question into an embedding vector\n",
    "        # Find the most similar documents in the vector database\n",
    "        # Return those documents\n",
    "\n",
    "        # context = format_docs(docs):\n",
    "        # docs is a list of Document objects returned by the retriever\n",
    "        # format_docs() is our helper function that combines all the document contents into a single string\n",
    "        # It joins the documents with newlines between them so they're readable\n",
    "                \n",
    "        # Create the prompt template\n",
    "        prompt = PromptTemplate(\n",
    "            template=\"\"\"You are an assistant for question-answering tasks. Use the following pieces of retrieved context to answer the question. If you don't know the answer, just say that you don't know. Use three sentences maximum and keep the answer concise.\n",
    "\n",
    "            Question: {question}\n",
    "            Context: {context}\n",
    "\n",
    "            Answer:\"\"\",\n",
    "            input_variables=[\"question\", \"context\"]\n",
    "        )\n",
    "        \n",
    "        # Format the prompt with our inputs\n",
    "        formatted_prompt = prompt.format(\n",
    "            question=str(question),  # Ensure question is a string\n",
    "            context=context\n",
    "        )\n",
    "        \n",
    "        # Get response from the model\n",
    "        response = model.invoke(formatted_prompt)\n",
    "        \n",
    "        return {\"messages\": [response.content]}\n",
    "        \n",
    "    except Exception as e:\n",
    "        print(f\"Error in RAG function: {str(e)}\")\n",
    "        return {\"messages\": [\"I apologize, but I encountered an error while processing your question.\"]}"
   ]
  },
  {
   "cell_type": "code",
   "execution_count": 44,
   "metadata": {},
   "outputs": [],
   "source": [
    "def function3(state: Agentstate):\n",
    "    \n",
    "    # LLM FUNCTION\n",
    "\n",
    "    print(\"-> LLM Call ->\")\n",
    "    \n",
    "    question =state[\"messages\"][0]\n",
    "\n",
    "    # Normal LLM Call\n",
    "\n",
    "    complete_query = \"Answer the following question with you knowledge of the real world. Following is the question: \" + question\n",
    "    response = model.invoke(complete_query)\n",
    "    return{\"messages\": [response.content]}"
   ]
  },
  {
   "cell_type": "markdown",
   "metadata": {},
   "source": [
    "##### 4. Creating StateGraphs"
   ]
  },
  {
   "cell_type": "code",
   "execution_count": 45,
   "metadata": {},
   "outputs": [],
   "source": [
    "from langgraph.graph import StateGraph, END"
   ]
  },
  {
   "cell_type": "markdown",
   "metadata": {},
   "source": [
    "##### 4.1 Creating Workflow"
   ]
  },
  {
   "cell_type": "code",
   "execution_count": 46,
   "metadata": {},
   "outputs": [],
   "source": [
    "# Fix: Use the TypedDict class 'Agentstate', not the dictionary 'AgentState'\n",
    "\n",
    "workflow = StateGraph(Agentstate)"
   ]
  },
  {
   "cell_type": "code",
   "execution_count": 47,
   "metadata": {},
   "outputs": [
    {
     "data": {
      "text/plain": [
       "<langgraph.graph.state.StateGraph at 0x33ce8ef90>"
      ]
     },
     "execution_count": 47,
     "metadata": {},
     "output_type": "execute_result"
    }
   ],
   "source": [
    "workflow.add_node(\"Supervisor\", function1)\n"
   ]
  },
  {
   "cell_type": "code",
   "execution_count": 48,
   "metadata": {},
   "outputs": [
    {
     "data": {
      "text/plain": [
       "<langgraph.graph.state.StateGraph at 0x33ce8ef90>"
      ]
     },
     "execution_count": 48,
     "metadata": {},
     "output_type": "execute_result"
    }
   ],
   "source": [
    "workflow.add_node(\"RAG\", function2)"
   ]
  },
  {
   "cell_type": "code",
   "execution_count": 49,
   "metadata": {},
   "outputs": [
    {
     "data": {
      "text/plain": [
       "<langgraph.graph.state.StateGraph at 0x33ce8ef90>"
      ]
     },
     "execution_count": 49,
     "metadata": {},
     "output_type": "execute_result"
    }
   ],
   "source": [
    "workflow.add_node(\"LLM\", function3)"
   ]
  },
  {
   "cell_type": "code",
   "execution_count": 50,
   "metadata": {},
   "outputs": [
    {
     "data": {
      "text/plain": [
       "<langgraph.graph.state.StateGraph at 0x33ce8ef90>"
      ]
     },
     "execution_count": 50,
     "metadata": {},
     "output_type": "execute_result"
    }
   ],
   "source": [
    "workflow.set_entry_point(\"Supervisor\")"
   ]
  },
  {
   "cell_type": "code",
   "execution_count": 51,
   "metadata": {},
   "outputs": [
    {
     "data": {
      "text/plain": [
       "<langgraph.graph.state.StateGraph at 0x33ce8ef90>"
      ]
     },
     "execution_count": 51,
     "metadata": {},
     "output_type": "execute_result"
    }
   ],
   "source": [
    "workflow.add_conditional_edges(\n",
    "    \"Supervisor\",\n",
    "    router,\n",
    "    {\n",
    "        \"RAG Call\": \"RAG\",\n",
    "        \"LLM Call\": \"LLM\"\n",
    "    }\n",
    ")"
   ]
  },
  {
   "cell_type": "code",
   "execution_count": 52,
   "metadata": {},
   "outputs": [
    {
     "data": {
      "text/plain": [
       "<langgraph.graph.state.StateGraph at 0x33ce8ef90>"
      ]
     },
     "execution_count": 52,
     "metadata": {},
     "output_type": "execute_result"
    }
   ],
   "source": [
    "workflow.add_edge(\"RAG\", END)\n",
    "workflow.add_edge(\"LLM\", END)"
   ]
  },
  {
   "cell_type": "code",
   "execution_count": 53,
   "metadata": {},
   "outputs": [],
   "source": [
    "app = workflow.compile()"
   ]
  },
  {
   "cell_type": "code",
   "execution_count": 54,
   "metadata": {},
   "outputs": [],
   "source": [
    "state={\"messages\": [\"What is the meaning of Life?\"]}"
   ]
  },
  {
   "cell_type": "code",
   "execution_count": 55,
   "metadata": {},
   "outputs": [
    {
     "name": "stdout",
     "output_type": "stream",
     "text": [
      "Question:  What is the meaning of Life?\n",
      "Parsed response Topic='Not Related' Reasoning='The query is a philosophical question and not related to the USA.'\n",
      "-> Router ->\n",
      "Last message:  Not Related\n",
      "-> LLM Call ->\n"
     ]
    },
    {
     "data": {
      "text/plain": [
       "{'messages': ['What is the meaning of Life?',\n",
       "  'Not Related',\n",
       "  \"There's no single, universally accepted answer to the meaning of life.  The meaning of life is a deeply personal and philosophical question, and different individuals and cultures have vastly different perspectives.\\n\\nSome common perspectives include:\\n\\n* **Nihilism:**  The belief that life is inherently without meaning or purpose.\\n* **Existentialism:** The belief that individuals create their own meaning and purpose through their choices and actions.  There's no pre-ordained meaning; we must define it ourselves.\\n* **Absurdism:** The belief that the search for meaning in a meaningless universe is inherently absurd, but that we should embrace this absurdity and live authentically despite it.\\n* **Spiritual and Religious Beliefs:** Many religions offer answers about the meaning of life, often involving serving a higher power, following divine commandments, or achieving enlightenment or salvation.  These meanings often involve a connection to something larger than oneself and a purpose beyond individual existence.\\n* **Hedonism:** The belief that the meaning of life is to pursue pleasure and avoid pain.\\n* **Purpose-driven life:**  Finding meaning through contributing to something larger than oneself, such as a cause, community, or family.  This could involve pursuing a career that aligns with one's values or dedicating oneself to helping others.\\n\\n\\nUltimately, the meaning of life is what you make it.  It's a question of personal values, beliefs, and experiences.  There is no right or wrong answer.\"]}"
      ]
     },
     "execution_count": 55,
     "metadata": {},
     "output_type": "execute_result"
    }
   ],
   "source": [
    "app.invoke(state)"
   ]
  },
  {
   "cell_type": "code",
   "execution_count": 56,
   "metadata": {},
   "outputs": [
    {
     "name": "stdout",
     "output_type": "stream",
     "text": [
      "Question:  What is the GDP of the USA?\n",
      "Parsed response Topic='USA' Reasoning='The query explicitly asks for the GDP of the USA.'\n",
      "-> Router ->\n",
      "Last message:  USA\n",
      "-> RAG Call ->\n",
      "Question: What is the GDP of the USA?\n"
     ]
    },
    {
     "name": "stderr",
     "output_type": "stream",
     "text": [
      "/var/folders/dv/7swn0_8d5434v2xwcvtw_vsc0000gn/T/ipykernel_27962/579819737.py:11: LangChainDeprecationWarning: The method `BaseRetriever.get_relevant_documents` was deprecated in langchain-core 0.1.46 and will be removed in 1.0. Use :meth:`~invoke` instead.\n",
      "  docs = retriever.get_relevant_documents(str(question))  # Ensure question is a string\n"
     ]
    },
    {
     "name": "stdout",
     "output_type": "stream",
     "text": [
      "Retrieved relevant documents\n"
     ]
    },
    {
     "data": {
      "text/plain": [
       "{'messages': ['What is the GDP of the USA?',\n",
       "  'USA',\n",
       "  'The nominal GDP of the USA is approximately $28 trillion USD as of 2024.  This represents about 25% of the global economy.  It holds the #1 ranking worldwide by nominal GDP.']}"
      ]
     },
     "execution_count": 56,
     "metadata": {},
     "output_type": "execute_result"
    }
   ],
   "source": [
    "state={\"messages\": [\"What is the GDP of the USA?\"]}\n",
    "\n",
    "app.invoke(state)"
   ]
  },
  {
   "cell_type": "code",
   "execution_count": 57,
   "metadata": {},
   "outputs": [
    {
     "name": "stdout",
     "output_type": "stream",
     "text": [
      "Question:  What is the weather in the USA right now?\n",
      "Parsed response Topic='USA' Reasoning='The query explicitly asks about the weather in the USA.'\n",
      "-> Router ->\n",
      "Last message:  USA\n",
      "-> RAG Call ->\n",
      "Question: What is the weather in the USA right now?\n",
      "Retrieved relevant documents\n"
     ]
    },
    {
     "data": {
      "text/plain": [
       "{'messages': ['What is the weather in the USA right now?',\n",
       "  'USA',\n",
       "  \"I don't know.  The provided text focuses on the US economy, not the current weather.\"]}"
      ]
     },
     "execution_count": 57,
     "metadata": {},
     "output_type": "execute_result"
    }
   ],
   "source": [
    "state={\"messages\": [\"What is the weather in the USA right now?\"]}\n",
    "\n",
    "app.invoke(state)"
   ]
  },
  {
   "cell_type": "code",
   "execution_count": 58,
   "metadata": {},
   "outputs": [
    {
     "name": "stdout",
     "output_type": "stream",
     "text": [
      "Question:  Can you tell me the industrial growth of world's most powerful economy?\n",
      "Parsed response Topic='USA' Reasoning=\"The query asks about the industrial growth of the world's most powerful economy, which is generally considered to be the USA.\"\n",
      "-> Router ->\n",
      "Last message:  USA\n",
      "-> RAG Call ->\n",
      "Question: Can you tell me the industrial growth of world's most powerful economy?\n",
      "Retrieved relevant documents\n"
     ]
    },
    {
     "name": "stderr",
     "output_type": "stream",
     "text": [
      "Retrying langchain_google_genai.chat_models._chat_with_retry.<locals>._chat_with_retry in 2.0 seconds as it raised InternalServerError: 500 Internal error encountered..\n"
     ]
    },
    {
     "data": {
      "text/plain": [
       "{'messages': [\"Can you tell me the industrial growth of world's most powerful economy?\",\n",
       "  'USA',\n",
       "  \"The provided text states the U.S. has a $28 trillion GDP and is the engine of global growth.  It doesn't give specific industrial growth figures, however.  Therefore, I cannot answer your question about the precise industrial growth rate.\"]}"
      ]
     },
     "execution_count": 58,
     "metadata": {},
     "output_type": "execute_result"
    }
   ],
   "source": [
    "state={\"messages\": [\"Can you tell me the industrial growth of world's most powerful economy?\"]}\n",
    "\n",
    "app.invoke(state)"
   ]
  },
  {
   "cell_type": "code",
   "execution_count": 59,
   "metadata": {},
   "outputs": [
    {
     "name": "stdout",
     "output_type": "stream",
     "text": [
      "Question:  Can you tell me the industrial growth of world's poor economy?\n",
      "Parsed response Topic='Not Related' Reasoning=\"The query asks about the industrial growth of the world's poor economy, which is a global economic issue not specific to the USA.\"\n",
      "-> Router ->\n",
      "Last message:  Not Related\n",
      "-> LLM Call ->\n"
     ]
    },
    {
     "data": {
      "text/plain": [
       "{'messages': [\"Can you tell me the industrial growth of world's poor economy?\",\n",
       "  'Not Related',\n",
       "  'There\\'s no single, easily quantifiable answer to \"the industrial growth of the world\\'s poor economies.\"  The term \"poor economies\" itself is broad and encompasses a vast diversity of nations at different stages of development, facing different challenges, and experiencing varying levels of industrialization.  However, we can make some general observations:\\n\\n* **Uneven Growth:** Industrial growth in poorer economies is highly uneven. Some countries have experienced significant industrial expansion, often driven by specific sectors like textiles, manufacturing, or resource extraction. Others remain largely agrarian, with limited industrial capacity.  This disparity is influenced by factors like access to capital, infrastructure, technology, education, and political stability.\\n\\n* **Shifting Manufacturing Centers:**  A significant portion of global manufacturing has shifted from developed nations to developing countries, particularly in Asia.  This has led to industrial growth in places like China, Vietnam, Bangladesh, and India, although this growth often comes with challenges related to labor practices, environmental sustainability, and income inequality.\\n\\n* **Challenges to Industrialization:**  Many poor economies face significant obstacles to industrial growth, including:\\n    * **Lack of Infrastructure:** Inadequate transportation, energy, and communication networks hinder industrial development.\\n    * **Limited Access to Capital:**  Securing funding for investment in factories, equipment, and technology can be difficult.\\n    * **Skills Gaps:**  A shortage of skilled labor can limit productivity and competitiveness.\\n    * **Political Instability and Corruption:**  Unstable political environments and corruption deter investment and impede economic progress.\\n    * **Dependence on Commodity Exports:**  Many poor economies rely heavily on exporting raw materials, making them vulnerable to price fluctuations and limiting diversification.\\n    * **Climate Change Impacts:**  The effects of climate change, such as droughts and floods, disproportionately affect poor economies and can severely disrupt industrial activity.\\n\\n\\n* **Measuring Industrial Growth:**  Measuring industrial growth accurately is challenging.  Data collection in many poorer economies is unreliable, and official statistics may not fully capture the informal sector, which often plays a significant role in industrial production.\\n\\nIn summary, while some poor economies have witnessed impressive industrial growth, particularly in manufacturing, the overall picture is complex and characterized by significant regional variations and ongoing challenges.  There\\'s no single rate of growth that applies across the board.  To understand the industrial progress of a specific region or country, detailed analysis of its unique circumstances is necessary.']}"
      ]
     },
     "execution_count": 59,
     "metadata": {},
     "output_type": "execute_result"
    }
   ],
   "source": [
    "state={\"messages\": [\"Can you tell me the industrial growth of world's poor economy?\"]}\n",
    "\n",
    "app.invoke(state)"
   ]
  },
  {
   "cell_type": "markdown",
   "metadata": {},
   "source": [
    "___________\n",
    "\n",
    "#### Breakdown of the architecture\n",
    "\n",
    "```\n",
    "                            Input (user query)\n",
    "                                |\n",
    "                                |    \"Hi\"\n",
    "                               \\ /\n",
    "                            -------------\n",
    "       state =  --------->  |           |\n",
    "    {\"messages\" :[]}        |Supervisor |   {\"messages\": [\"Hi\"]}\n",
    " we validate the state as:  |  Agent    |   We use ```Annotation``` just to describe the nehaviour of the variable\n",
    "class Agenstate(typedict)   -------------\n",
    "                    <state[\"messages\"][-1]> => Hi   Topic = \"Not Related\" -|  Parser (PydanticOutputParser)\n",
    "                                  |                     Reasoning =\"...\"      -|\n",
    "                                  |\n",
    "                                 \\ / \n",
    "                            -------------\n",
    "       state =  --------->  |           |\n",
    "    {\"messages\" :           |   Router  |   \n",
    " [\"Hi\", \"Not Related]}      |           |   \n",
    "                            -------------\n",
    "                <state[\"messages\"][-1]> => Not Related\n",
    "                               /\n",
    "                              /\n",
    "                             /\n",
    "                        LLM Call  \n",
    "                            |\n",
    "                            |\n",
    "                         <code> <- Final Answer \n",
    "                     state = {\"messages\": [\"Hi\", \"Not related\"]}\n",
    "                     Model(\"Hi\") ---> response {\"messages\": [\"Hi\", \"Not related\", \"Final Answer\"]}  \n",
    "                     Output {\"messages\": [\"Hi\", \"Not related\", \"Final Answer\"]}\n",
    "\n",
    "                     Thus, result = state[\"messages\"][-1] => Final Answer\n",
    "```"
   ]
  },
  {
   "cell_type": "markdown",
   "metadata": {},
   "source": [
    "________\n",
    "\n",
    "### Assignment\n",
    "\n",
    "1. Create a Supervisor node\n",
    "2. Router\n",
    "3.  3.1 LLM Call (llm node) \\\n",
    "    3.2 RAG (rag node) \\\n",
    "    3.3 Web Crawler (internet) (fetch the info real time from internet) \\\n",
    "4. Create one more node for validation of generated output ---> explore the validation part\n",
    "5. If validation fails, go to the supervisor again and then supervisor will again decide what needs to be called next\n",
    "6. Once the validation pass, then only generate the final output.\n",
    "\n",
    "_______"
   ]
  },
  {
   "cell_type": "markdown",
   "metadata": {},
   "source": []
  }
 ],
 "metadata": {
  "kernelspec": {
   "display_name": "Python 3",
   "language": "python",
   "name": "python3"
  },
  "language_info": {
   "codemirror_mode": {
    "name": "ipython",
    "version": 3
   },
   "file_extension": ".py",
   "mimetype": "text/x-python",
   "name": "python",
   "nbconvert_exporter": "python",
   "pygments_lexer": "ipython3",
   "version": "3.13.0"
  }
 },
 "nbformat": 4,
 "nbformat_minor": 2
}
