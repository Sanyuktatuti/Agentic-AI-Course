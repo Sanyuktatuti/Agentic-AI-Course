{
 "cells": [
  {
   "cell_type": "markdown",
   "metadata": {},
   "source": [
    "### AGENDA\n",
    "\n",
    "1. React Agent (Reasoning and Action Agent)\n",
    "- Load an LLM ---> bind multiple tools ---> LLM with tool\n",
    "- query --> LLM with tool --> tool1 or tool2 or tool3 \\\n",
    "\n",
    "    1.1 Tool - Tool is decorator for a function "
   ]
  },
  {
   "cell_type": "markdown",
   "metadata": {},
   "source": [
    "```     \n",
    "                \n",
    "                query (current weather of Delhi)\n",
    "                          |\n",
    "                          |\n",
    "                         \\ / \n",
    "                    _____________\n",
    "                    |           |\n",
    "                    |   LLM     |\n",
    "                    _____________\n",
    "which appropriate    /\\  /   \\\n",
    "tool needs           /  /     \\\n",
    "to be called        /  /       \\\n",
    "loops until        /  \\/       \\/\n",
    "correct info  _____________  _____________\n",
    "              |           |  |            |\n",
    "              |   LLM     |  |     END    |\n",
    "              _____________  ______________\n",
    "\n",
    "```"
   ]
  },
  {
   "cell_type": "code",
   "execution_count": null,
   "metadata": {},
   "outputs": [
    {
     "data": {
      "text/plain": [
       "'REDACTED_API_KEY'"
      ]
     },
     "execution_count": 15,
     "metadata": {},
     "output_type": "execute_result"
    }
   ],
   "source": [
    "# API key loading removed for security reasons\n",
    "import os\n",
    "# os.getenv(\"GROQ_API_KEY\")"
   ]
  },
  {
   "cell_type": "code",
   "execution_count": null,
   "metadata": {},
   "outputs": [],
   "source": [
    "# Environment variable loading removed for security\n",
    "# from dotenv import load_dotenv\n",
    "# load_dotenv()\n",
    "# os.environ['GROQ_API_KEY'] = os.getenv(\"GROQ_API_KEY\")\n",
    "\n",
    "# To use this notebook, create your own .env file with:\n",
    "# GROQ_API_KEY=your_api_key_here"
   ]
  },
  {
   "cell_type": "code",
   "execution_count": 85,
   "metadata": {},
   "outputs": [],
   "source": [
    "model = \"deepseek-r1-distill-llama-70b\""
   ]
  },
  {
   "cell_type": "code",
   "execution_count": 86,
   "metadata": {},
   "outputs": [],
   "source": [
    "from langchain_groq import ChatGroq\n",
    "\n",
    "llm = ChatGroq(model_name = model)"
   ]
  },
  {
   "cell_type": "code",
   "execution_count": 87,
   "metadata": {},
   "outputs": [
    {
     "name": "stdout",
     "output_type": "stream",
     "text": [
      "<think>\n",
      "\n",
      "</think>\n",
      "\n",
      "Hello! How can I assist you today? 😊\n"
     ]
    }
   ],
   "source": [
    "print(llm.invoke(\"HI\").content)"
   ]
  },
  {
   "cell_type": "code",
   "execution_count": 20,
   "metadata": {},
   "outputs": [],
   "source": [
    "import operator\n",
    "from typing import List, Union\n",
    "from pydantic import BaseModel, Field\n",
    "from typing import TypedDict, Annotated, Sequence\n",
    "from langchain_core.messages import BaseMessage, HumanMessage, AIMessage\n",
    "from langchain.prompts import PromptTemplate, ChatPromptTemplate\n",
    "from langchain_core.output_parsers import StrOutputParser, PydanticOutputParser\n",
    "from langgraph.graph import StateGraph, START, END, MessagesState\n",
    "from langgraph.graph.message import add_messages\n",
    "from langchain_core.tools import tool\n",
    "from langgraph.prebuilt import ToolNode\n",
    "from IPython.display import Image, display"
   ]
  },
  {
   "cell_type": "code",
   "execution_count": 21,
   "metadata": {},
   "outputs": [],
   "source": [
    "# Here ```MessagesState``` is a pre-built class available in langgraph module that is used to store the messages in the state.\n",
    "# ```MessagesState``` is an alternative to the ```Agenstate``` that we created from scratch in the previous class.\n",
    "# From previous class: \n",
    "# class Agentstate(TypedDict):\n",
    "#    messages: Annotated[Sequence[BaseMessage], operator.add]\n",
    "\n",
    "def call_model(state: MessagesState):\n",
    "    # Get the current message from state\n",
    "    messages = state[\"messages\"]\n",
    "    print(f\"This is my current message: {messages}\")\n",
    "    \n",
    "    # Convert messages to proper format\n",
    "\n",
    "    # Creates an empty list to store the properly formatted messages\n",
    "    formatted_messages = []\n",
    "\n",
    "    for msg in messages:\n",
    "\n",
    "        # Checks if the message is already a BaseMessage instance\n",
    "        # BaseMessage is the parent class for all message types in LangChain (like HumanMessage, AIMessage, SystemMessage, etc.)\n",
    "        # If it is, we keep it as-is because it's already in the correct format\n",
    "        # Example: HumanMessage(content=\"Hello\") would pass this check\n",
    "        if isinstance(msg, BaseMessage):\n",
    "            formatted_messages.append(msg)\n",
    "\n",
    "        # Checks if the message is a plain string\n",
    "        # If it is, wraps it in a HumanMessage object\n",
    "        # The string becomes the content of the message\n",
    "        # Example: \"Hello\" becomes HumanMessage(content=\"Hello\")   \n",
    "        elif isinstance(msg, str):\n",
    "            formatted_messages.append(HumanMessage(content=msg))\n",
    "        \n",
    "        # Handles any other type of input (numbers, lists, dictionaries, etc.)\n",
    "        # Converts the input to a string using str()\n",
    "        # Then wraps it in a HumanMessage\n",
    "        # Example: 42 becomes HumanMessage(content=\"42\")\n",
    "        else:\n",
    "            formatted_messages.append(HumanMessage(content=str(msg)))\n",
    "\n",
    "    #   BaseMessage\n",
    "    #    ├── HumanMessage     (for user inputs)\n",
    "    #    ├── AIMessage        (for AI responses)\n",
    "    #    ├── SystemMessage    (for system instructions)\n",
    "    #    └── FunctionMessage  (for function calls/returns)\n",
    "    \n",
    "    # Invoke the model with properly formatted messages\n",
    "    response = llm.invoke(formatted_messages)\n",
    "    \n",
    "    return {\"messages\": [response]}\n"
   ]
  },
  {
   "cell_type": "code",
   "execution_count": 22,
   "metadata": {},
   "outputs": [
    {
     "name": "stdout",
     "output_type": "stream",
     "text": [
      "This is my current message: ['What is the GDP of the India?']\n"
     ]
    },
    {
     "data": {
      "text/plain": [
       "{'messages': [AIMessage(content=\"<think>\\nOkay, so I need to find out what the GDP of India is. I remember that GDP stands for Gross Domestic Product, which is a measure of a country's economic performance. It's the total value of all goods and services produced within a country over a specific time period, usually a year.\\n\\nFirst, I should consider the source of the information. GDP figures can vary slightly depending on the source, like the World Bank, IMF, or the country's own statistical agencies. For India, the Reserve Bank of India and the National Statistical Office are reliable sources.\\n\\nI know that GDP can be nominal or PPP (Purchasing Power Parity). Nominal GDP is the total value in current prices, while PPP adjusts for cost of living differences. I think the user is asking for nominal GDP, but I'm not entirely sure. Maybe I should mention both just in case.\\n\\nI recall that India's economy is one of the largest in the world, so the GDP should be in the trillions of USD. From recent news, I think India's GDP was around $3.5 trillion in 2023. But I'm not certain about the exact figure. I should check if this is nominal or PPP. Wait, I think $3.5 trillion is nominal. PPP would be much higher, maybe around $11 trillion.\\n\\nI should also note that GDP can change year over year, so it's important to mention the year. The data can vary, so I should include a note that the figures are approximate and can differ based on the source.\\n\\nI should structure the answer to first state the nominal GDP, then the PPP, and mention the year, while also advising that the exact number can vary slightly depending on the source. That way, the answer is comprehensive and informative.\\n</think>\\n\\nAs of the most recent data available up to July 2024, India's GDP is estimated to be approximately $3.5 trillion in nominal terms. However, using the Purchasing Power Parity (PPP) method, which adjusts for cost of living differences, India's GDP is around $11 trillion. It's important to note that GDP figures can vary slightly depending on the source, such as the World Bank, IMF, or India's National Statistical Office. For the most accurate and up-to-date information, consulting these sources directly is recommended.\", additional_kwargs={}, response_metadata={'token_usage': {'completion_tokens': 474, 'prompt_tokens': 11, 'total_tokens': 485, 'completion_time': 2.200693247, 'prompt_time': 0.001657879, 'queue_time': 0.055902171, 'total_time': 2.202351126}, 'model_name': 'deepseek-r1-distill-llama-70b', 'system_fingerprint': 'fp_1bbe7845ec', 'finish_reason': 'stop', 'logprobs': None}, id='run--242e7cf6-b024-4137-9bb5-b4dee61d07f4-0', usage_metadata={'input_tokens': 11, 'output_tokens': 474, 'total_tokens': 485})]}"
      ]
     },
     "execution_count": 22,
     "metadata": {},
     "output_type": "execute_result"
    }
   ],
   "source": [
    "state = {\"messages\": [\"What is the GDP of the USA?\"]}\n",
    "state = {\"messages\": [\"What is the GDP of the India?\"]}\n",
    "\n",
    "call_model(state)"
   ]
  },
  {
   "cell_type": "markdown",
   "metadata": {},
   "source": [
    "\n",
    "#### Creating a Langgraph Workflow"
   ]
  },
  {
   "cell_type": "markdown",
   "metadata": {},
   "source": [
    "#### 1. Creating object StateGraph"
   ]
  },
  {
   "cell_type": "code",
   "execution_count": 23,
   "metadata": {},
   "outputs": [],
   "source": [
    "workflow = StateGraph(MessagesState)"
   ]
  },
  {
   "cell_type": "code",
   "execution_count": 24,
   "metadata": {},
   "outputs": [
    {
     "data": {
      "text/plain": [
       "<langgraph.graph.state.StateGraph at 0x10fcfe0d0>"
      ]
     },
     "execution_count": 24,
     "metadata": {},
     "output_type": "execute_result"
    }
   ],
   "source": [
    "workflow.add_node(\"mybot\", call_model)"
   ]
  },
  {
   "cell_type": "code",
   "execution_count": 25,
   "metadata": {},
   "outputs": [
    {
     "data": {
      "text/plain": [
       "<langgraph.graph.state.StateGraph at 0x10fcfe0d0>"
      ]
     },
     "execution_count": 25,
     "metadata": {},
     "output_type": "execute_result"
    }
   ],
   "source": [
    "workflow.add_edge(START, \"mybot\")"
   ]
  },
  {
   "cell_type": "code",
   "execution_count": 26,
   "metadata": {},
   "outputs": [
    {
     "data": {
      "text/plain": [
       "<langgraph.graph.state.StateGraph at 0x10fcfe0d0>"
      ]
     },
     "execution_count": 26,
     "metadata": {},
     "output_type": "execute_result"
    }
   ],
   "source": [
    "workflow.add_edge(\"mybot\", END)"
   ]
  },
  {
   "cell_type": "code",
   "execution_count": 27,
   "metadata": {},
   "outputs": [],
   "source": [
    "app = workflow.compile()"
   ]
  },
  {
   "cell_type": "code",
   "execution_count": 28,
   "metadata": {},
   "outputs": [
    {
     "data": {
      "image/png": "[encoded data removed]",
      "text/plain": [
       "<IPython.core.display.Image object>"
      ]
     },
     "metadata": {},
     "output_type": "display_data"
    }
   ],
   "source": [
    "display(Image(app.get_graph().draw_mermaid_png()))"
   ]
  },
  {
   "cell_type": "code",
   "execution_count": 29,
   "metadata": {},
   "outputs": [],
   "source": [
    "input = {\"messages\": [\"Hi, how are you?\"]}"
   ]
  },
  {
   "cell_type": "code",
   "execution_count": 30,
   "metadata": {},
   "outputs": [
    {
     "name": "stdout",
     "output_type": "stream",
     "text": [
      "This is my current message: [HumanMessage(content='Hi, how are you?', additional_kwargs={}, response_metadata={}, id='7308648b-562a-43a1-ad16-a3ce2f14fab1')]\n"
     ]
    },
    {
     "data": {
      "text/plain": [
       "{'messages': [HumanMessage(content='Hi, how are you?', additional_kwargs={}, response_metadata={}, id='7308648b-562a-43a1-ad16-a3ce2f14fab1'),\n",
       "  AIMessage(content=\"<think>\\n\\n</think>\\n\\nHi! I'm just a virtual assistant, so I don't have feelings, but I'm here and ready to help you with whatever you need. How are you doing? 😊\", additional_kwargs={}, response_metadata={'token_usage': {'completion_tokens': 42, 'prompt_tokens': 9, 'total_tokens': 51, 'completion_time': 0.211398017, 'prompt_time': 0.000792646, 'queue_time': 0.055727114, 'total_time': 0.212190663}, 'model_name': 'deepseek-r1-distill-llama-70b', 'system_fingerprint': 'fp_1bbe7845ec', 'finish_reason': 'stop', 'logprobs': None}, id='run--48d27f08-a981-4f49-9799-8fdfb1b1b3fd-0', usage_metadata={'input_tokens': 9, 'output_tokens': 42, 'total_tokens': 51})]}"
      ]
     },
     "execution_count": 30,
     "metadata": {},
     "output_type": "execute_result"
    }
   ],
   "source": [
    "app.invoke(input)"
   ]
  },
  {
   "cell_type": "code",
   "execution_count": 31,
   "metadata": {},
   "outputs": [
    {
     "name": "stdout",
     "output_type": "stream",
     "text": [
      "This is my current message: [HumanMessage(content='Hi, how are you?', additional_kwargs={}, response_metadata={}, id='0509f68d-1120-4332-9238-24bfe6c1438e')]\n",
      "Output from mybot Node\n",
      "________________\n",
      "{'messages': [AIMessage(content=\"<think>\\n\\n</think>\\n\\nHi! I'm just a virtual assistant, so I don't have feelings, but I'm here and ready to help you with whatever you need. How are you doing? 😊\", additional_kwargs={}, response_metadata={'token_usage': {'completion_tokens': 42, 'prompt_tokens': 9, 'total_tokens': 51, 'completion_time': 0.205458838, 'prompt_time': 0.000473471, 'queue_time': 0.056371718999999994, 'total_time': 0.205932309}, 'model_name': 'deepseek-r1-distill-llama-70b', 'system_fingerprint': 'fp_1bbe7845ec', 'finish_reason': 'stop', 'logprobs': None}, id='run--3282228d-aac9-4969-adaa-c6b1b19774a5-0', usage_metadata={'input_tokens': 9, 'output_tokens': 42, 'total_tokens': 51})]}\n",
      "\n",
      "\n"
     ]
    }
   ],
   "source": [
    "for output in app.stream(input):\n",
    "    for key, value in output.items():\n",
    "        print(f\"Output from {key} Node\")\n",
    "        print(\"________________\")\n",
    "        print(value)\n",
    "        print(\"\\n\")"
   ]
  },
  {
   "cell_type": "markdown",
   "metadata": {},
   "source": [
    "_____________________\n",
    "\n",
    "#### Binding Tools"
   ]
  },
  {
   "cell_type": "code",
   "execution_count": 32,
   "metadata": {},
   "outputs": [],
   "source": [
    "@tool\n",
    "# creating custom tool\n",
    "def search (query: str):\n",
    "    \n",
    "    \"\"\"This is my custom tool for searching a weather\"\"\"\n",
    "\n",
    "    if \"delhi\" in query.lower():\n",
    "        return \"the temp is 45 degree and sunny\"\n",
    "    return \"the temp is 25 degree and cloudy\""
   ]
  },
  {
   "cell_type": "code",
   "execution_count": 33,
   "metadata": {},
   "outputs": [
    {
     "data": {
      "text/plain": [
       "'the temp is 25 degree and cloudy'"
      ]
     },
     "execution_count": 33,
     "metadata": {},
     "output_type": "execute_result"
    }
   ],
   "source": [
    "search.invoke(\"what is the temperature in kashmir\")"
   ]
  },
  {
   "cell_type": "code",
   "execution_count": 34,
   "metadata": {},
   "outputs": [
    {
     "data": {
      "text/plain": [
       "'the temp is 45 degree and sunny'"
      ]
     },
     "execution_count": 34,
     "metadata": {},
     "output_type": "execute_result"
    }
   ],
   "source": [
    "search.invoke(\"what is the weather in delhi\")"
   ]
  },
  {
   "cell_type": "code",
   "execution_count": 35,
   "metadata": {},
   "outputs": [
    {
     "data": {
      "text/plain": [
       "StructuredTool(name='search', description='This is my custom tool for searching a weather', args_schema=<class 'langchain_core.utils.pydantic.search'>, func=<function search at 0x10fd9f100>)"
      ]
     },
     "execution_count": 35,
     "metadata": {},
     "output_type": "execute_result"
    }
   ],
   "source": [
    "search"
   ]
  },
  {
   "cell_type": "code",
   "execution_count": 36,
   "metadata": {},
   "outputs": [],
   "source": [
    "\n",
    "tools = [search]"
   ]
  },
  {
   "cell_type": "markdown",
   "metadata": {},
   "source": [
    "```llm.bind_tools``` is a method that takes a list of tools and binds them."
   ]
  },
  {
   "cell_type": "code",
   "execution_count": 37,
   "metadata": {},
   "outputs": [],
   "source": [
    "llm_with_tool = llm.bind_tools(tools)"
   ]
  },
  {
   "cell_type": "code",
   "execution_count": 38,
   "metadata": {},
   "outputs": [],
   "source": [
    "response =llm_with_tool.invoke(\"what is the weather in delhi\")"
   ]
  },
  {
   "cell_type": "code",
   "execution_count": 39,
   "metadata": {},
   "outputs": [
    {
     "data": {
      "text/plain": [
       "AIMessage(content='', additional_kwargs={'tool_calls': [{'id': '28hbhak6x', 'function': {'arguments': '{\"query\":\"weather in Delhi\"}', 'name': 'search'}, 'type': 'function'}]}, response_metadata={'token_usage': {'completion_tokens': 81, 'prompt_tokens': 132, 'total_tokens': 213, 'completion_time': 0.413203683, 'prompt_time': 0.013688257, 'queue_time': 0.058104712999999995, 'total_time': 0.42689194}, 'model_name': 'deepseek-r1-distill-llama-70b', 'system_fingerprint': 'fp_1bbe7845ec', 'finish_reason': 'tool_calls', 'logprobs': None}, id='run--610553e8-b775-4976-83a2-8146f56d9bef-0', tool_calls=[{'name': 'search', 'args': {'query': 'weather in Delhi'}, 'id': '28hbhak6x', 'type': 'tool_call'}], usage_metadata={'input_tokens': 132, 'output_tokens': 81, 'total_tokens': 213})"
      ]
     },
     "execution_count": 39,
     "metadata": {},
     "output_type": "execute_result"
    }
   ],
   "source": [
    "response"
   ]
  },
  {
   "cell_type": "markdown",
   "metadata": {},
   "source": [
    "We see that directly calling the ```llm_with_tool``` does not return any content:\n",
    "\n",
    "AIMessage(content='', additional_kwargs={'tool_calls': [{'id': '3ec8h382z', 'function': {'arguments': '{\"query\":\"weather in Delhi\"}', 'name': 'search'}, 'type': 'function'}]}, response_metadata={'token_usage': {'completion_tokens': 122, 'prompt_tokens': 132, 'total_tokens': 254, 'completion_time': 0.552335418, 'prompt_time': 0.008446532, 'queue_time': 0.056085977, 'total_time': 0.56078195}, 'model_name': 'deepseek-r1-distill-llama-70b', 'system_fingerprint': 'fp_1bbe7845ec', 'finish_reason': 'tool_calls', 'logprobs': None}, id='run--2f656fa2-fe95-4696-a445-5d2625006914-0', tool_calls=[{'name': 'search', 'args': {'query': 'weather in Delhi'}, 'id': '3ec8h382z', 'type': 'tool_call'}], usage_metadata={'input_tokens': 132, 'output_tokens': 122, 'total_tokens': 254})\n"
   ]
  },
  {
   "cell_type": "code",
   "execution_count": 40,
   "metadata": {},
   "outputs": [
    {
     "data": {
      "text/plain": [
       "[{'name': 'search',\n",
       "  'args': {'query': 'weather in Delhi'},\n",
       "  'id': '28hbhak6x',\n",
       "  'type': 'tool_call'}]"
      ]
     },
     "execution_count": 40,
     "metadata": {},
     "output_type": "execute_result"
    }
   ],
   "source": [
    "# So check if it is redirecting the tool call or not. Here, it is redirecting the tool call: 'name': 'search'\n",
    "\n",
    "response.tool_calls"
   ]
  },
  {
   "cell_type": "markdown",
   "metadata": {},
   "source": [
    "Here, this query part will be passed to the tool, and, the tool will generate a response:\n",
    "\n",
    "[{'name': 'search', \\\n",
    "  'args': {'query': 'weather in Delhi'}, \\\n",
    "  'id': '3ec8h382z', \\\n",
    "  'type': 'tool_call'}] \n",
    "\n",
    "#### The workflow needs to be orchestrated via langgraph."
   ]
  },
  {
   "cell_type": "code",
   "execution_count": 41,
   "metadata": {},
   "outputs": [],
   "source": [
    "def call_model(state: MessagesState):\n",
    "    question = state[\"messages\"]\n",
    "    response = llm_with_tool.invoke(question)\n",
    "    return {\"messages\": [response]}"
   ]
  },
  {
   "cell_type": "code",
   "execution_count": 42,
   "metadata": {},
   "outputs": [],
   "source": [
    "input = {\"messages\": [\"What is the weather in Delhi?\"]}"
   ]
  },
  {
   "cell_type": "code",
   "execution_count": 43,
   "metadata": {},
   "outputs": [],
   "source": [
    "response = call_model(input)"
   ]
  },
  {
   "cell_type": "code",
   "execution_count": 44,
   "metadata": {},
   "outputs": [
    {
     "data": {
      "text/plain": [
       "''"
      ]
     },
     "execution_count": 44,
     "metadata": {},
     "output_type": "execute_result"
    }
   ],
   "source": [
    "response[\"messages\"][-1].content"
   ]
  },
  {
   "cell_type": "code",
   "execution_count": 45,
   "metadata": {},
   "outputs": [
    {
     "data": {
      "text/plain": [
       "[{'name': 'search',\n",
       "  'args': {'query': 'Delhi weather'},\n",
       "  'id': 'syard0btj',\n",
       "  'type': 'tool_call'}]"
      ]
     },
     "execution_count": 45,
     "metadata": {},
     "output_type": "execute_result"
    }
   ],
   "source": [
    "response[\"messages\"][-1].tool_calls"
   ]
  },
  {
   "cell_type": "markdown",
   "metadata": {},
   "source": [
    "Now using this particular logic ```response[\"messages\"][-1].tool_calls``` we have to fetch the details of the tool, i.e., which tool is being called. And we will define that in the ```router``` function.\n",
    "\n",
    "And based on the detail of the tool call we will segregate and delegate the calls to its respective tools.\n"
   ]
  },
  {
   "cell_type": "code",
   "execution_count": 46,
   "metadata": {},
   "outputs": [],
   "source": [
    "def router_function(state: MessagesState):\n",
    "    message = state[\"messages\"]\n",
    "    last_message = message[-1]\n",
    "    if last_message.tool_calls:\n",
    "        return \"mytools\"\n",
    "    return END"
   ]
  },
  {
   "cell_type": "code",
   "execution_count": 47,
   "metadata": {},
   "outputs": [
    {
     "data": {
      "text/plain": [
       "[StructuredTool(name='search', description='This is my custom tool for searching a weather', args_schema=<class 'langchain_core.utils.pydantic.search'>, func=<function search at 0x10fd9f100>)]"
      ]
     },
     "execution_count": 47,
     "metadata": {},
     "output_type": "execute_result"
    }
   ],
   "source": [
    "tools"
   ]
  },
  {
   "cell_type": "markdown",
   "metadata": {},
   "source": [
    "If we want to fit this ```tools``` into the langgraph workflow, we need to convert it into a node. \\\n",
    "We use the pre-built method ```ToolNode``` available in langgraph."
   ]
  },
  {
   "cell_type": "code",
   "execution_count": 48,
   "metadata": {},
   "outputs": [],
   "source": [
    "tool_node = ToolNode(tools)"
   ]
  },
  {
   "cell_type": "code",
   "execution_count": 49,
   "metadata": {},
   "outputs": [
    {
     "data": {
      "text/plain": [
       "tools(tags=None, recurse=True, explode_args=False, func_accepts_config=True, func_accepts={'store': ('__pregel_store', None)}, tools_by_name={'search': StructuredTool(name='search', description='This is my custom tool for searching a weather', args_schema=<class 'langchain_core.utils.pydantic.search'>, func=<function search at 0x10fd9f100>)}, tool_to_state_args={'search': {}}, tool_to_store_arg={'search': None}, handle_tool_errors=True, messages_key='messages')"
      ]
     },
     "execution_count": 49,
     "metadata": {},
     "output_type": "execute_result"
    }
   ],
   "source": [
    "tool_node"
   ]
  },
  {
   "cell_type": "code",
   "execution_count": 50,
   "metadata": {},
   "outputs": [],
   "source": [
    "workflow2 = StateGraph(MessagesState)"
   ]
  },
  {
   "cell_type": "code",
   "execution_count": 51,
   "metadata": {},
   "outputs": [
    {
     "data": {
      "text/plain": [
       "<langgraph.graph.state.StateGraph at 0x10fa416e0>"
      ]
     },
     "execution_count": 51,
     "metadata": {},
     "output_type": "execute_result"
    }
   ],
   "source": [
    "workflow2.add_node(\"llmwithtool\", call_model)\n",
    "\n",
    "workflow2.add_node(\"mytools\", tool_node)"
   ]
  },
  {
   "cell_type": "code",
   "execution_count": 52,
   "metadata": {},
   "outputs": [
    {
     "data": {
      "text/plain": [
       "<langgraph.graph.state.StateGraph at 0x10fa416e0>"
      ]
     },
     "execution_count": 52,
     "metadata": {},
     "output_type": "execute_result"
    }
   ],
   "source": [
    "workflow2.add_edge(START, \"llmwithtool\")\n",
    "\n",
    "workflow2.add_conditional_edges(\"llmwithtool\", router_function, {\"mytools\": \"mytools\", END: END})\n",
    "\n",
    "# Add edge from mytools back to llmwithtool to continue the conversation\n",
    "# workflow2.add_edge(\"mytools\", \"llmwithtool\")"
   ]
  },
  {
   "cell_type": "code",
   "execution_count": 39,
   "metadata": {},
   "outputs": [],
   "source": [
    "app2 = workflow2.compile()"
   ]
  },
  {
   "cell_type": "code",
   "execution_count": 40,
   "metadata": {},
   "outputs": [
    {
     "data": {
      "image/png": "[encoded data removed]",
      "text/plain": [
       "<IPython.core.display.Image object>"
      ]
     },
     "metadata": {},
     "output_type": "display_data"
    }
   ],
   "source": [
    "from IPython.display import Image, display\n",
    "display(Image(app2.get_graph().draw_mermaid_png()))"
   ]
  },
  {
   "cell_type": "markdown",
   "metadata": {},
   "source": [
    "#### Flow of the architecture:\n",
    "\n",
    "Step 1: We give an input to the ```llmwithtool``` which decides if we need to call llmwithtool or not \\\n",
    "Step 2: If the input is related to the tool, it redirects to ```mytools``` and generates the process \\\n",
    "Step 3: If it is not related to the toolthen it generates the standard LLM output."
   ]
  },
  {
   "cell_type": "code",
   "execution_count": 41,
   "metadata": {},
   "outputs": [
    {
     "data": {
      "text/plain": [
       "{'messages': [HumanMessage(content='What is the weather is Bengaluru?', additional_kwargs={}, response_metadata={}, id='23bb9538-4bd3-4c2b-ab0f-6e43d9e36ccd'),\n",
       "  AIMessage(content='', additional_kwargs={'tool_calls': [{'id': 'bkjcqr968', 'function': {'arguments': '{\"query\":\"Bengaluru\"}', 'name': 'search'}, 'type': 'function'}]}, response_metadata={'token_usage': {'completion_tokens': 104, 'prompt_tokens': 133, 'total_tokens': 237, 'completion_time': 0.475442703, 'prompt_time': 0.009076811, 'queue_time': 0.056913279, 'total_time': 0.484519514}, 'model_name': 'deepseek-r1-distill-llama-70b', 'system_fingerprint': 'fp_1bbe7845ec', 'finish_reason': 'tool_calls', 'logprobs': None}, id='run--23e1f50e-adb4-445e-805d-a946f772338b-0', tool_calls=[{'name': 'search', 'args': {'query': 'Bengaluru'}, 'id': 'bkjcqr968', 'type': 'tool_call'}], usage_metadata={'input_tokens': 133, 'output_tokens': 104, 'total_tokens': 237}),\n",
       "  ToolMessage(content='the temp is 25 degree and cloudy', name='search', id='bcb17055-6c9b-4567-ab9b-9fcfd0b1d5c6', tool_call_id='bkjcqr968')]}"
      ]
     },
     "execution_count": 41,
     "metadata": {},
     "output_type": "execute_result"
    }
   ],
   "source": [
    "app2.invoke({\"messages\": [\"What is the weather is Bengaluru?\"]})"
   ]
  },
  {
   "cell_type": "markdown",
   "metadata": {},
   "source": [
    " _____________\n",
    " \n",
    " ```                              \n",
    "                                _____________\n",
    "                                |           |\n",
    "                                | __start__ |                                   \n",
    "                                _____________                       \n",
    "                                      |\n",
    "                                      |\n",
    "                                      |\n",
    "                                     \\ /\n",
    "                                ________________\n",
    "                                |               |\n",
    "                                | llmwithtool   |\n",
    "                                _________________\n",
    "                                    /       \\\n",
    "                                   /         \\   \n",
    "                                  /           \\\n",
    "                                 |          tools\n",
    "                                 |              |\n",
    "                                 |             \\ /\n",
    "                                 |          _____________\n",
    "                                 |          |           |\n",
    "                                 |          |  mytools  |\n",
    "                                 |          _____________\n",
    "                                 |              |\n",
    "                                 |              |\n",
    "                                 \\              /\n",
    "                                  \\            /\n",
    "                                  \\/          \\/ \n",
    "                                    _____________\n",
    "                                    |           |\n",
    "                                    | __start__ |\n",
    "                                    _____________\n",
    "\n",
    "\n",
    "\n",
    "          _____________________________________________________\n",
    "          |                                                   |\n",
    "          |                                                  \\ /\n",
    "Input -> LLM -> ```<thinking>``` -> ```<action>``` -> ```<observation>``` -> Output\n",
    "         / \\                                                  |\n",
    "          |                                                   |\n",
    "          -----------------------------------------------------\n",
    "```\n",
    "\n"
   ]
  },
  {
   "cell_type": "markdown",
   "metadata": {},
   "source": [
    "_______\n",
    "\n",
    "Question: Can you tell me about the Zerodha stock price and add a 100 in that stock price?\n",
    "\n",
    "tool1 -> fetches the zerodha stock price from e.g.: Yahoo API\n",
    "\n",
    "Let's say the zerodha stock price is 5000 and w ehav eto return 6000 (5000 + 1000)\n",
    "\n",
    "\n",
    "These type of scenarios will be taken care by the Agentic Flow.\n",
    "\n",
    "We understood the tool calling, now we will work on React Agents.\n",
    "\n",
    "React -  Reasoning and Action\n",
    "\n",
    "Reasoning is related to the LLM and Action is tool calling. (LLM + Multiple tool calling)\n",
    "\n",
    "\n",
    "For instance,\n",
    "\n",
    "1. Tool => YahooAPI, Add, Summation \\\n",
    "llm = llm.bind_tools[Yahoo, Add, Sum] \\\n",
    "llm.invoke(\"What is the stock price of Zerodha? Add 1000 in the final stock price.\")\n",
    "```\n",
    "            <start>\n",
    "                |\n",
    "               LLM   (What is the stock price of Zerodha? Add 1000 in the final stock price.)\n",
    "               / \\  \\\n",
    "              /   \\  \\\n",
    "             /     \\ToolNode  \n",
    "            /      <Yahoo, Add, Multiply>\n",
    "           |\n",
    "           |\n",
    "           END\n",
    "\n",
    "```\n",
    "\n",
    "Here LLM is acting as a validator.  ```LLM``` <-- binds tool (```<stock price>```) (Add 1000 to the given stcok price)\n",
    "\n",
    "For the first part of the question \"Zerodha stock price\" it calls the ```Yahoo``` tool. here, 5000, and calls back the ```LLM``` to validate the information.\n",
    "\n",
    "Next, to tackle the addition of 1000, LLM calls the tool ```Add```, 5000+1000 = 6000, and calls the ```LLM``` tool back to validate.\n",
    "\n",
    "Note:-  It is crucial to remember that we are catching all the information in the form of ```state```, a list of messages."
   ]
  },
  {
   "cell_type": "code",
   "execution_count": 54,
   "metadata": {},
   "outputs": [],
   "source": [
    "app3 = workflow2.add_edge(\"mytools\", \"llmwithtool\")"
   ]
  },
  {
   "cell_type": "code",
   "execution_count": 55,
   "metadata": {},
   "outputs": [],
   "source": [
    "app3 = workflow2.compile()"
   ]
  },
  {
   "cell_type": "code",
   "execution_count": 56,
   "metadata": {},
   "outputs": [
    {
     "data": {
      "image/png": "[encoded data removed]",
      "text/plain": [
       "<IPython.core.display.Image object>"
      ]
     },
     "metadata": {},
     "output_type": "display_data"
    }
   ],
   "source": [
    "from IPython.display import Image, display\n",
    "display(Image(app3.get_graph().draw_mermaid_png()))"
   ]
  },
  {
   "cell_type": "code",
   "execution_count": 57,
   "metadata": {},
   "outputs": [
    {
     "name": "stdout",
     "output_type": "stream",
     "text": [
      "Output from llmwithtool Node\n",
      "________________\n",
      "{'messages': [AIMessage(content='', additional_kwargs={'tool_calls': [{'id': 'cvdvfv1df', 'function': {'arguments': '{\"query\":\"Delhi weather\"}', 'name': 'search'}, 'type': 'function'}]}, response_metadata={'token_usage': {'completion_tokens': 124, 'prompt_tokens': 131, 'total_tokens': 255, 'completion_time': 0.525414454, 'prompt_time': 0.01009867, 'queue_time': 0.05674349599999999, 'total_time': 0.535513124}, 'model_name': 'deepseek-r1-distill-llama-70b', 'system_fingerprint': 'fp_1bbe7845ec', 'finish_reason': 'tool_calls', 'logprobs': None}, id='run--50c6cf8c-0e0c-40f8-a8a8-68d33799858a-0', tool_calls=[{'name': 'search', 'args': {'query': 'Delhi weather'}, 'id': 'cvdvfv1df', 'type': 'tool_call'}], usage_metadata={'input_tokens': 131, 'output_tokens': 124, 'total_tokens': 255})]}\n",
      "\n",
      "\n",
      "Output from mytools Node\n",
      "________________\n",
      "{'messages': [ToolMessage(content='the temp is 45 degree and sunny', name='search', id='bae8f461-db08-4525-8c3f-7daa736e9e0b', tool_call_id='cvdvfv1df')]}\n",
      "\n",
      "\n",
      "Output from llmwithtool Node\n",
      "________________\n",
      "{'messages': [AIMessage(content='The weather in Delhi is currently 45 degrees and sunny. Stay hydrated and take care in the heat!', additional_kwargs={}, response_metadata={'token_usage': {'completion_tokens': 130, 'prompt_tokens': 188, 'total_tokens': 318, 'completion_time': 0.624009796, 'prompt_time': 0.016687414, 'queue_time': 0.055297655, 'total_time': 0.64069721}, 'model_name': 'deepseek-r1-distill-llama-70b', 'system_fingerprint': 'fp_1bbe7845ec', 'finish_reason': 'stop', 'logprobs': None}, id='run--6c7f54d8-2dd5-4927-bf39-3e7735d2375d-0', usage_metadata={'input_tokens': 188, 'output_tokens': 130, 'total_tokens': 318})]}\n",
      "\n",
      "\n"
     ]
    }
   ],
   "source": [
    "for output in app3.stream({\"messages\": [\"What is weather in Delhi?\"]}):\n",
    "    for key, value in output.items():\n",
    "        print(f\"Output from {key} Node\")\n",
    "        print(\"________________\")\n",
    "        print(value)\n",
    "        print(\"\\n\")"
   ]
  },
  {
   "cell_type": "markdown",
   "metadata": {},
   "source": [
    "____________\n",
    "#### How to configure memory in the langraph?"
   ]
  },
  {
   "cell_type": "code",
   "execution_count": 58,
   "metadata": {},
   "outputs": [],
   "source": [
    "from langgraph.checkpoint.memory import MemorySaver"
   ]
  },
  {
   "cell_type": "code",
   "execution_count": 59,
   "metadata": {},
   "outputs": [],
   "source": [
    "memory = MemorySaver()"
   ]
  },
  {
   "cell_type": "code",
   "execution_count": 60,
   "metadata": {},
   "outputs": [
    {
     "data": {
      "text/plain": [
       "<langgraph.graph.state.StateGraph at 0x10fa41350>"
      ]
     },
     "execution_count": 60,
     "metadata": {},
     "output_type": "execute_result"
    }
   ],
   "source": [
    "workflow3 = StateGraph(MessagesState)\n",
    "\n",
    "workflow3.add_node(\"llmwithtool\", call_model)\n",
    "\n",
    "workflow3.add_node(\"mytools\", tool_node)\n",
    "\n",
    "workflow3.add_edge(START, \"llmwithtool\")\n",
    "\n",
    "workflow3.add_conditional_edges(\"llmwithtool\", router_function, {\"mytools\": \"mytools\", END: END})\n",
    "\n",
    "# Add edge from mytools back to llmwithtool to continue the conversation\n",
    "workflow3.add_edge(\"mytools\", \"llmwithtool\")\n"
   ]
  },
  {
   "cell_type": "code",
   "execution_count": 62,
   "metadata": {},
   "outputs": [],
   "source": [
    "app4 = workflow3.compile(checkpointer=memory)"
   ]
  },
  {
   "cell_type": "code",
   "execution_count": 63,
   "metadata": {},
   "outputs": [
    {
     "data": {
      "image/png": "[encoded data removed]",
      "text/plain": [
       "<IPython.core.display.Image object>"
      ]
     },
     "metadata": {},
     "output_type": "display_data"
    }
   ],
   "source": [
    "from IPython.display import Image, display\n",
    "display(Image(app4.get_graph().draw_mermaid_png()))"
   ]
  },
  {
   "cell_type": "code",
   "execution_count": 64,
   "metadata": {},
   "outputs": [],
   "source": [
    "config = {\"configurable\": {\"thread_id\": \"1\"}}"
   ]
  },
  {
   "cell_type": "code",
   "execution_count": 69,
   "metadata": {},
   "outputs": [],
   "source": [
    "events = app4.stream({\"messages\": [\"What is weather in Delhi?\"]}, config=config, stream_mode=\"values\")\n",
    "\n",
    "# using the method ```config``` we will be able to sustain the entire conversation wrt the specific thread."
   ]
  },
  {
   "cell_type": "code",
   "execution_count": 70,
   "metadata": {},
   "outputs": [
    {
     "name": "stdout",
     "output_type": "stream",
     "text": [
      "================================\u001b[1m Human Message \u001b[0m=================================\n",
      "\n",
      "What is weather in Delhi?\n",
      "==================================\u001b[1m Ai Message \u001b[0m==================================\n",
      "Tool Calls:\n",
      "  search (804xzty1c)\n",
      " Call ID: 804xzty1c\n",
      "  Args:\n",
      "    query: weather in Delhi\n",
      "=================================\u001b[1m Tool Message \u001b[0m=================================\n",
      "Name: search\n",
      "\n",
      "the temp is 45 degree and sunny\n",
      "==================================\u001b[1m Ai Message \u001b[0m==================================\n",
      "\n",
      "The current weather in Delhi is 45 degrees and sunny. Is there anything else you'd like to know about the weather?\n"
     ]
    }
   ],
   "source": [
    "# the method ```stream``` is loading the entire output in a memory and is processing it in batches.\n",
    "\n",
    "for event in events:\n",
    "    event[\"messages\"][-1].pretty_print()"
   ]
  },
  {
   "cell_type": "code",
   "execution_count": 71,
   "metadata": {},
   "outputs": [
    {
     "name": "stdout",
     "output_type": "stream",
     "text": [
      "================================\u001b[1m Human Message \u001b[0m=================================\n",
      "\n",
      "What is weather in Indore?\n",
      "==================================\u001b[1m Ai Message \u001b[0m==================================\n",
      "Tool Calls:\n",
      "  search (dnxhyt0ps)\n",
      " Call ID: dnxhyt0ps\n",
      "  Args:\n",
      "    query: weather in Indore\n",
      "=================================\u001b[1m Tool Message \u001b[0m=================================\n",
      "Name: search\n",
      "\n",
      "the temp is 25 degree and cloudy\n",
      "==================================\u001b[1m Ai Message \u001b[0m==================================\n",
      "\n",
      "The current weather in Indore is 25 degrees and cloudy. Is there anything else you'd like to know about the weather?\n"
     ]
    }
   ],
   "source": [
    "events = app4.stream({\"messages\": [\"What is weather in Indore?\"]}, config=config, stream_mode=\"values\")\n",
    "\n",
    "for event in events:\n",
    "    event[\"messages\"][-1].pretty_print()"
   ]
  },
  {
   "cell_type": "code",
   "execution_count": 74,
   "metadata": {},
   "outputs": [
    {
     "data": {
      "text/plain": [
       "{'configurable': {'thread_id': '1'}}"
      ]
     },
     "execution_count": 74,
     "metadata": {},
     "output_type": "execute_result"
    }
   ],
   "source": [
    "config"
   ]
  },
  {
   "cell_type": "code",
   "execution_count": 75,
   "metadata": {},
   "outputs": [
    {
     "data": {
      "text/plain": [
       "{'v': 4,\n",
       " 'ts': '2025-07-04T17:02:16.850922+00:00',\n",
       " 'id': '1f058f8a-39bb-6464-800a-dfd8ed4e1721',\n",
       " 'channel_versions': {'__start__': '00000000000000000000000000000009.0.22731667567174618',\n",
       "  'messages': '00000000000000000000000000000012.0.8989221631125421',\n",
       "  'branch:to:llmwithtool': '00000000000000000000000000000012.0.8989221631125421',\n",
       "  'branch:to:mytools': '00000000000000000000000000000011.0.7447442469933642'},\n",
       " 'versions_seen': {'__input__': {},\n",
       "  '__start__': {'__start__': '00000000000000000000000000000008.0.7204475941381934'},\n",
       "  'llmwithtool': {'branch:to:llmwithtool': '00000000000000000000000000000011.0.7447442469933642'},\n",
       "  'mytools': {'branch:to:mytools': '00000000000000000000000000000010.0.4871261554377919'}},\n",
       " 'channel_values': {'messages': [HumanMessage(content='What is weather in Delhi?', additional_kwargs={}, response_metadata={}, id='b4602591-047b-4f10-97fa-9dd3e14531ab'),\n",
       "   HumanMessage(content='What is weather in Delhi?', additional_kwargs={}, response_metadata={}, id='7b040005-ecb7-4b84-afe3-4410b35599bf'),\n",
       "   AIMessage(content='', additional_kwargs={'tool_calls': [{'id': '804xzty1c', 'function': {'arguments': '{\"query\":\"weather in Delhi\"}', 'name': 'search'}, 'type': 'function'}]}, response_metadata={'token_usage': {'completion_tokens': 116, 'prompt_tokens': 138, 'total_tokens': 254, 'completion_time': 0.60809665, 'prompt_time': 0.009183053, 'queue_time': 0.055937127, 'total_time': 0.617279703}, 'model_name': 'deepseek-r1-distill-llama-70b', 'system_fingerprint': 'fp_1bbe7845ec', 'finish_reason': 'tool_calls', 'logprobs': None}, id='run--dcd266a1-d206-41d6-a0f7-af236c0866bd-0', tool_calls=[{'name': 'search', 'args': {'query': 'weather in Delhi'}, 'id': '804xzty1c', 'type': 'tool_call'}], usage_metadata={'input_tokens': 138, 'output_tokens': 116, 'total_tokens': 254}),\n",
       "   ToolMessage(content='the temp is 45 degree and sunny', name='search', id='074f5456-c5d6-427a-9af4-828377f98cbf', tool_call_id='804xzty1c'),\n",
       "   AIMessage(content=\"The current weather in Delhi is 45 degrees and sunny. Is there anything else you'd like to know about the weather?\", additional_kwargs={}, response_metadata={'token_usage': {'completion_tokens': 222, 'prompt_tokens': 195, 'total_tokens': 417, 'completion_time': 1.483235092, 'prompt_time': 0.012100186, 'queue_time': 0.057722073, 'total_time': 1.495335278}, 'model_name': 'deepseek-r1-distill-llama-70b', 'system_fingerprint': 'fp_1bbe7845ec', 'finish_reason': 'stop', 'logprobs': None}, id='run--16323597-a12f-4444-8448-64518b292b5b-0', usage_metadata={'input_tokens': 195, 'output_tokens': 222, 'total_tokens': 417}),\n",
       "   HumanMessage(content='What is weather in Indore?', additional_kwargs={}, response_metadata={}, id='bfcd1d7c-8ef2-4fd1-958b-ecc8550d7963'),\n",
       "   AIMessage(content='', additional_kwargs={'tool_calls': [{'id': 'dnxhyt0ps', 'function': {'arguments': '{\"query\":\"weather in Indore\"}', 'name': 'search'}, 'type': 'function'}]}, response_metadata={'token_usage': {'completion_tokens': 121, 'prompt_tokens': 230, 'total_tokens': 351, 'completion_time': 0.694858615, 'prompt_time': 0.015804157, 'queue_time': 0.058833126, 'total_time': 0.710662772}, 'model_name': 'deepseek-r1-distill-llama-70b', 'system_fingerprint': 'fp_1bbe7845ec', 'finish_reason': 'tool_calls', 'logprobs': None}, id='run--3804cdf4-de7b-4d95-9bc1-c752cd90b82d-0', tool_calls=[{'name': 'search', 'args': {'query': 'weather in Indore'}, 'id': 'dnxhyt0ps', 'type': 'tool_call'}], usage_metadata={'input_tokens': 230, 'output_tokens': 121, 'total_tokens': 351}),\n",
       "   ToolMessage(content='the temp is 25 degree and cloudy', name='search', id='fdb77afb-ecb9-4597-a76c-34cd107df68d', tool_call_id='dnxhyt0ps'),\n",
       "   AIMessage(content=\"The current weather in Indore is 25 degrees and cloudy. Is there anything else you'd like to know about the weather?\", additional_kwargs={}, response_metadata={'token_usage': {'completion_tokens': 194, 'prompt_tokens': 289, 'total_tokens': 483, 'completion_time': 0.912530229, 'prompt_time': 0.025924831, 'queue_time': 0.05716567800000001, 'total_time': 0.93845506}, 'model_name': 'deepseek-r1-distill-llama-70b', 'system_fingerprint': 'fp_1bbe7845ec', 'finish_reason': 'stop', 'logprobs': None}, id='run--f256bf3b-517d-4702-9e7b-858ca1380602-0', usage_metadata={'input_tokens': 289, 'output_tokens': 194, 'total_tokens': 483})]}}"
      ]
     },
     "execution_count": 75,
     "metadata": {},
     "output_type": "execute_result"
    }
   ],
   "source": [
    "memory.get(config)"
   ]
  },
  {
   "cell_type": "code",
   "execution_count": 77,
   "metadata": {},
   "outputs": [
    {
     "name": "stdout",
     "output_type": "stream",
     "text": [
      "================================\u001b[1m Human Message \u001b[0m=================================\n",
      "\n",
      "What is weather in Indore?\n",
      "==================================\u001b[1m Ai Message \u001b[0m==================================\n",
      "\n",
      "The current weather in Indore is 25 degrees and cloudy. Is there anything else you'd like to know about the weather?\n"
     ]
    }
   ],
   "source": [
    "events = app4.stream({\"messages\": [\"What is weather in Indore?\"]}, config=config, stream_mode=\"values\")\n",
    "\n",
    "for event in events:\n",
    "    event[\"messages\"][-1].pretty_print()"
   ]
  },
  {
   "cell_type": "markdown",
   "metadata": {},
   "source": [
    "What we see in the final output is that it is not calling any tool, which is possilbe due to the memory method in use."
   ]
  },
  {
   "cell_type": "code",
   "execution_count": 78,
   "metadata": {},
   "outputs": [
    {
     "data": {
      "text/plain": [
       "{'v': 4,\n",
       " 'ts': '2025-07-04T17:07:40.268572+00:00',\n",
       " 'id': '1f058f96-4615-624e-8027-3eadb2024b82',\n",
       " 'channel_versions': {'__start__': '00000000000000000000000000000040.0.39640020177915447',\n",
       "  'messages': '00000000000000000000000000000041.0.6036069534051846',\n",
       "  'branch:to:llmwithtool': '00000000000000000000000000000041.0.6036069534051846',\n",
       "  'branch:to:mytools': '00000000000000000000000000000038.0.12302345090759481'},\n",
       " 'versions_seen': {'__input__': {},\n",
       "  '__start__': {'__start__': '00000000000000000000000000000039.0.9984214216826777'},\n",
       "  'llmwithtool': {'branch:to:llmwithtool': '00000000000000000000000000000040.0.39640020177915447'},\n",
       "  'mytools': {'branch:to:mytools': '00000000000000000000000000000037.0.7048806696849181'}},\n",
       " 'channel_values': {'messages': [HumanMessage(content='What is weather in Delhi?', additional_kwargs={}, response_metadata={}, id='b4602591-047b-4f10-97fa-9dd3e14531ab'),\n",
       "   HumanMessage(content='What is weather in Delhi?', additional_kwargs={}, response_metadata={}, id='7b040005-ecb7-4b84-afe3-4410b35599bf'),\n",
       "   AIMessage(content='', additional_kwargs={'tool_calls': [{'id': '804xzty1c', 'function': {'arguments': '{\"query\":\"weather in Delhi\"}', 'name': 'search'}, 'type': 'function'}]}, response_metadata={'token_usage': {'completion_tokens': 116, 'prompt_tokens': 138, 'total_tokens': 254, 'completion_time': 0.60809665, 'prompt_time': 0.009183053, 'queue_time': 0.055937127, 'total_time': 0.617279703}, 'model_name': 'deepseek-r1-distill-llama-70b', 'system_fingerprint': 'fp_1bbe7845ec', 'finish_reason': 'tool_calls', 'logprobs': None}, id='run--dcd266a1-d206-41d6-a0f7-af236c0866bd-0', tool_calls=[{'name': 'search', 'args': {'query': 'weather in Delhi'}, 'id': '804xzty1c', 'type': 'tool_call'}], usage_metadata={'input_tokens': 138, 'output_tokens': 116, 'total_tokens': 254}),\n",
       "   ToolMessage(content='the temp is 45 degree and sunny', name='search', id='074f5456-c5d6-427a-9af4-828377f98cbf', tool_call_id='804xzty1c'),\n",
       "   AIMessage(content=\"The current weather in Delhi is 45 degrees and sunny. Is there anything else you'd like to know about the weather?\", additional_kwargs={}, response_metadata={'token_usage': {'completion_tokens': 222, 'prompt_tokens': 195, 'total_tokens': 417, 'completion_time': 1.483235092, 'prompt_time': 0.012100186, 'queue_time': 0.057722073, 'total_time': 1.495335278}, 'model_name': 'deepseek-r1-distill-llama-70b', 'system_fingerprint': 'fp_1bbe7845ec', 'finish_reason': 'stop', 'logprobs': None}, id='run--16323597-a12f-4444-8448-64518b292b5b-0', usage_metadata={'input_tokens': 195, 'output_tokens': 222, 'total_tokens': 417}),\n",
       "   HumanMessage(content='What is weather in Indore?', additional_kwargs={}, response_metadata={}, id='bfcd1d7c-8ef2-4fd1-958b-ecc8550d7963'),\n",
       "   AIMessage(content='', additional_kwargs={'tool_calls': [{'id': 'dnxhyt0ps', 'function': {'arguments': '{\"query\":\"weather in Indore\"}', 'name': 'search'}, 'type': 'function'}]}, response_metadata={'token_usage': {'completion_tokens': 121, 'prompt_tokens': 230, 'total_tokens': 351, 'completion_time': 0.694858615, 'prompt_time': 0.015804157, 'queue_time': 0.058833126, 'total_time': 0.710662772}, 'model_name': 'deepseek-r1-distill-llama-70b', 'system_fingerprint': 'fp_1bbe7845ec', 'finish_reason': 'tool_calls', 'logprobs': None}, id='run--3804cdf4-de7b-4d95-9bc1-c752cd90b82d-0', tool_calls=[{'name': 'search', 'args': {'query': 'weather in Indore'}, 'id': 'dnxhyt0ps', 'type': 'tool_call'}], usage_metadata={'input_tokens': 230, 'output_tokens': 121, 'total_tokens': 351}),\n",
       "   ToolMessage(content='the temp is 25 degree and cloudy', name='search', id='fdb77afb-ecb9-4597-a76c-34cd107df68d', tool_call_id='dnxhyt0ps'),\n",
       "   AIMessage(content=\"The current weather in Indore is 25 degrees and cloudy. Is there anything else you'd like to know about the weather?\", additional_kwargs={}, response_metadata={'token_usage': {'completion_tokens': 194, 'prompt_tokens': 289, 'total_tokens': 483, 'completion_time': 0.912530229, 'prompt_time': 0.025924831, 'queue_time': 0.05716567800000001, 'total_time': 0.93845506}, 'model_name': 'deepseek-r1-distill-llama-70b', 'system_fingerprint': 'fp_1bbe7845ec', 'finish_reason': 'stop', 'logprobs': None}, id='run--f256bf3b-517d-4702-9e7b-858ca1380602-0', usage_metadata={'input_tokens': 289, 'output_tokens': 194, 'total_tokens': 483}),\n",
       "   HumanMessage(content='What is weather in Indore?', additional_kwargs={}, response_metadata={}, id='69215c9b-5043-46b9-855e-3970915a5299'),\n",
       "   AIMessage(content='', additional_kwargs={'tool_calls': [{'id': 'v6t04z41k', 'function': {'arguments': '{\"query\":\"weather in Indore\"}', 'name': 'search'}, 'type': 'function'}]}, response_metadata={'token_usage': {'completion_tokens': 233, 'prompt_tokens': 325, 'total_tokens': 558, 'completion_time': 1.072100173, 'prompt_time': 0.021812721, 'queue_time': 0.057032230999999996, 'total_time': 1.093912894}, 'model_name': 'deepseek-r1-distill-llama-70b', 'system_fingerprint': 'fp_1bbe7845ec', 'finish_reason': 'tool_calls', 'logprobs': None}, id='run--ad3d2aa8-032c-48fa-9c3d-ef780f8dc3ed-0', tool_calls=[{'name': 'search', 'args': {'query': 'weather in Indore'}, 'id': 'v6t04z41k', 'type': 'tool_call'}], usage_metadata={'input_tokens': 325, 'output_tokens': 233, 'total_tokens': 558}),\n",
       "   ToolMessage(content='the temp is 25 degree and cloudy', name='search', id='cb43b894-05b6-4e06-a3b6-c8fcde643022', tool_call_id='v6t04z41k'),\n",
       "   AIMessage(content='', additional_kwargs={'tool_calls': [{'id': 'edsgr50hp', 'function': {'arguments': '{\"query\":\"weather in Indore\"}', 'name': 'search'}, 'type': 'function'}]}, response_metadata={'token_usage': {'completion_tokens': 217, 'prompt_tokens': 385, 'total_tokens': 602, 'completion_time': 1.055235789, 'prompt_time': 0.025006023, 'queue_time': 0.064215415, 'total_time': 1.080241812}, 'model_name': 'deepseek-r1-distill-llama-70b', 'system_fingerprint': 'fp_1bbe7845ec', 'finish_reason': 'tool_calls', 'logprobs': None}, id='run--dd98d03f-567a-49c6-928b-c585e9dd55d2-0', tool_calls=[{'name': 'search', 'args': {'query': 'weather in Indore'}, 'id': 'edsgr50hp', 'type': 'tool_call'}], usage_metadata={'input_tokens': 385, 'output_tokens': 217, 'total_tokens': 602}),\n",
       "   ToolMessage(content='the temp is 25 degree and cloudy', name='search', id='142dda69-c2d7-4877-874f-1dd8c265bb84', tool_call_id='edsgr50hp'),\n",
       "   AIMessage(content='', additional_kwargs={'tool_calls': [{'id': 'cva4mghxz', 'function': {'arguments': '{\"query\":\"weather in Indore\"}', 'name': 'search'}, 'type': 'function'}]}, response_metadata={'token_usage': {'completion_tokens': 222, 'prompt_tokens': 442, 'total_tokens': 664, 'completion_time': 1.012621462, 'prompt_time': 0.028130396, 'queue_time': 0.05419157499999999, 'total_time': 1.040751858}, 'model_name': 'deepseek-r1-distill-llama-70b', 'system_fingerprint': 'fp_1bbe7845ec', 'finish_reason': 'tool_calls', 'logprobs': None}, id='run--c35919e7-0623-4ecd-8b80-2663a1cf360e-0', tool_calls=[{'name': 'search', 'args': {'query': 'weather in Indore'}, 'id': 'cva4mghxz', 'type': 'tool_call'}], usage_metadata={'input_tokens': 442, 'output_tokens': 222, 'total_tokens': 664}),\n",
       "   ToolMessage(content='the temp is 25 degree and cloudy', name='search', id='71ef56af-9492-4e22-b2a1-0d863771e2ca', tool_call_id='cva4mghxz'),\n",
       "   AIMessage(content='', additional_kwargs={'tool_calls': [{'id': 'ngfvksfq6', 'function': {'arguments': '{\"query\":\"weather in Indore\"}', 'name': 'search'}, 'type': 'function'}]}, response_metadata={'token_usage': {'completion_tokens': 49, 'prompt_tokens': 501, 'total_tokens': 550, 'completion_time': 0.23611806, 'prompt_time': 0.040377361, 'queue_time': 0.057969207999999994, 'total_time': 0.276495421}, 'model_name': 'deepseek-r1-distill-llama-70b', 'system_fingerprint': 'fp_1bbe7845ec', 'finish_reason': 'tool_calls', 'logprobs': None}, id='run--bfa4d597-17b0-4446-8486-6c3f8f7ee857-0', tool_calls=[{'name': 'search', 'args': {'query': 'weather in Indore'}, 'id': 'ngfvksfq6', 'type': 'tool_call'}], usage_metadata={'input_tokens': 501, 'output_tokens': 49, 'total_tokens': 550}),\n",
       "   ToolMessage(content='the temp is 25 degree and cloudy', name='search', id='277a1b71-86e6-4a3f-8762-980573e92f40', tool_call_id='ngfvksfq6'),\n",
       "   AIMessage(content='', additional_kwargs={'tool_calls': [{'id': '74raefjdt', 'function': {'arguments': '{\"query\":\"weather in Indore\"}', 'name': 'search'}, 'type': 'function'}]}, response_metadata={'token_usage': {'completion_tokens': 61, 'prompt_tokens': 559, 'total_tokens': 620, 'completion_time': 0.221818182, 'prompt_time': 0.042482049, 'queue_time': 0.05719841, 'total_time': 0.264300231}, 'model_name': 'deepseek-r1-distill-llama-70b', 'system_fingerprint': 'fp_1bbe7845ec', 'finish_reason': 'tool_calls', 'logprobs': None}, id='run--19409c11-b8dc-4c11-8088-879063f2354a-0', tool_calls=[{'name': 'search', 'args': {'query': 'weather in Indore'}, 'id': '74raefjdt', 'type': 'tool_call'}], usage_metadata={'input_tokens': 559, 'output_tokens': 61, 'total_tokens': 620}),\n",
       "   ToolMessage(content='the temp is 25 degree and cloudy', name='search', id='4a210239-a1a9-4e74-8815-58fb6ed553d7', tool_call_id='74raefjdt'),\n",
       "   AIMessage(content='', additional_kwargs={'tool_calls': [{'id': '179t5yw4b', 'function': {'arguments': '{\"query\":\"weather in Indore\"}', 'name': 'search'}, 'type': 'function'}]}, response_metadata={'token_usage': {'completion_tokens': 56, 'prompt_tokens': 617, 'total_tokens': 673, 'completion_time': 0.203636364, 'prompt_time': 0.047945197, 'queue_time': 0.056821624999999994, 'total_time': 0.251581561}, 'model_name': 'deepseek-r1-distill-llama-70b', 'system_fingerprint': 'fp_1bbe7845ec', 'finish_reason': 'tool_calls', 'logprobs': None}, id='run--9ccf7470-2bdd-4549-b528-c97f0d736966-0', tool_calls=[{'name': 'search', 'args': {'query': 'weather in Indore'}, 'id': '179t5yw4b', 'type': 'tool_call'}], usage_metadata={'input_tokens': 617, 'output_tokens': 56, 'total_tokens': 673}),\n",
       "   ToolMessage(content='the temp is 25 degree and cloudy', name='search', id='c6fe02f4-4721-489c-8017-2a6b6e5670f3', tool_call_id='179t5yw4b'),\n",
       "   AIMessage(content='', additional_kwargs={'tool_calls': [{'id': 'x9q7g18q9', 'function': {'arguments': '{\"query\":\"weather in Indore\"}', 'name': 'search'}, 'type': 'function'}]}, response_metadata={'token_usage': {'completion_tokens': 945, 'prompt_tokens': 676, 'total_tokens': 1621, 'completion_time': 3.436363636, 'prompt_time': 0.057376505, 'queue_time': 0.058221655000000004, 'total_time': 3.493740141}, 'model_name': 'deepseek-r1-distill-llama-70b', 'system_fingerprint': 'fp_1bbe7845ec', 'finish_reason': 'tool_calls', 'logprobs': None}, id='run--489b3a04-f051-49b6-a227-c593f6f15385-0', tool_calls=[{'name': 'search', 'args': {'query': 'weather in Indore'}, 'id': 'x9q7g18q9', 'type': 'tool_call'}], usage_metadata={'input_tokens': 676, 'output_tokens': 945, 'total_tokens': 1621}),\n",
       "   ToolMessage(content='the temp is 25 degree and cloudy', name='search', id='7f4e497a-4c53-4632-b469-53f23b3a14e8', tool_call_id='x9q7g18q9'),\n",
       "   AIMessage(content='', additional_kwargs={'tool_calls': [{'id': 'fakspdnzg', 'function': {'arguments': '{\"query\":\"weather in Indore\"}', 'name': 'search'}, 'type': 'function'}]}, response_metadata={'token_usage': {'completion_tokens': 61, 'prompt_tokens': 737, 'total_tokens': 798, 'completion_time': 0.221818182, 'prompt_time': 0.0557486, 'queue_time': 0.056712018999999995, 'total_time': 0.277566782}, 'model_name': 'deepseek-r1-distill-llama-70b', 'system_fingerprint': 'fp_1bbe7845ec', 'finish_reason': 'tool_calls', 'logprobs': None}, id='run--9b9d5512-7996-4a14-9f39-b5f9ac1a5065-0', tool_calls=[{'name': 'search', 'args': {'query': 'weather in Indore'}, 'id': 'fakspdnzg', 'type': 'tool_call'}], usage_metadata={'input_tokens': 737, 'output_tokens': 61, 'total_tokens': 798}),\n",
       "   ToolMessage(content='the temp is 25 degree and cloudy', name='search', id='3f08c9df-c914-4559-9b45-9c1e68db7a49', tool_call_id='fakspdnzg'),\n",
       "   AIMessage(content='', additional_kwargs={'tool_calls': [{'id': '0gwkdc3g9', 'function': {'arguments': '{\"query\":\"weather in Indore\"}', 'name': 'search'}, 'type': 'function'}]}, response_metadata={'token_usage': {'completion_tokens': 2142, 'prompt_tokens': 795, 'total_tokens': 2937, 'completion_time': 7.7890909090000005, 'prompt_time': 0.060582397, 'queue_time': 0.06565686299999998, 'total_time': 7.849673306}, 'model_name': 'deepseek-r1-distill-llama-70b', 'system_fingerprint': 'fp_1bbe7845ec', 'finish_reason': 'tool_calls', 'logprobs': None}, id='run--167c9575-476f-483b-bb25-b8508d70c70e-0', tool_calls=[{'name': 'search', 'args': {'query': 'weather in Indore'}, 'id': '0gwkdc3g9', 'type': 'tool_call'}], usage_metadata={'input_tokens': 795, 'output_tokens': 2142, 'total_tokens': 2937}),\n",
       "   ToolMessage(content='the temp is 25 degree and cloudy', name='search', id='54173ff8-de30-4a68-b12c-7939fa194108', tool_call_id='0gwkdc3g9'),\n",
       "   AIMessage(content='', additional_kwargs={'tool_calls': [{'id': 'c57r6zfjx', 'function': {'arguments': '{\"query\":\"weather in Indore\"}', 'name': 'search'}, 'type': 'function'}]}, response_metadata={'token_usage': {'completion_tokens': 61, 'prompt_tokens': 855, 'total_tokens': 916, 'completion_time': 0.221818182, 'prompt_time': 0.067055911, 'queue_time': 0.21605245800000003, 'total_time': 0.288874093}, 'model_name': 'deepseek-r1-distill-llama-70b', 'system_fingerprint': 'fp_1bbe7845ec', 'finish_reason': 'tool_calls', 'logprobs': None}, id='run--5fa1116b-ed98-4b8c-8417-d046b024ffe4-0', tool_calls=[{'name': 'search', 'args': {'query': 'weather in Indore'}, 'id': 'c57r6zfjx', 'type': 'tool_call'}], usage_metadata={'input_tokens': 855, 'output_tokens': 61, 'total_tokens': 916}),\n",
       "   ToolMessage(content='the temp is 25 degree and cloudy', name='search', id='a36876ed-393e-4693-8864-eb05f515877b', tool_call_id='c57r6zfjx'),\n",
       "   AIMessage(content='', additional_kwargs={'tool_calls': [{'id': '46z0xsc4b', 'function': {'arguments': '{\"query\":\"weather in Indore\"}', 'name': 'search'}, 'type': 'function'}]}, response_metadata={'token_usage': {'completion_tokens': 61, 'prompt_tokens': 915, 'total_tokens': 976, 'completion_time': 0.221818182, 'prompt_time': 0.074229513, 'queue_time': 0.05465435099999999, 'total_time': 0.296047695}, 'model_name': 'deepseek-r1-distill-llama-70b', 'system_fingerprint': 'fp_1bbe7845ec', 'finish_reason': 'tool_calls', 'logprobs': None}, id='run--c5a6a124-22b0-459f-bc92-1eb5da712a4b-0', tool_calls=[{'name': 'search', 'args': {'query': 'weather in Indore'}, 'id': '46z0xsc4b', 'type': 'tool_call'}], usage_metadata={'input_tokens': 915, 'output_tokens': 61, 'total_tokens': 976}),\n",
       "   ToolMessage(content='the temp is 25 degree and cloudy', name='search', id='2c745f1d-4885-4661-b6e6-dcb55d876cda', tool_call_id='46z0xsc4b'),\n",
       "   AIMessage(content='', additional_kwargs={'tool_calls': [{'id': 'q7s49231q', 'function': {'arguments': '{\"query\":\"weather in Indore\"}', 'name': 'search'}, 'type': 'function'}]}, response_metadata={'token_usage': {'completion_tokens': 165, 'prompt_tokens': 975, 'total_tokens': 1140, 'completion_time': 0.902159487, 'prompt_time': 0.070386492, 'queue_time': 0.053933968, 'total_time': 0.972545979}, 'model_name': 'deepseek-r1-distill-llama-70b', 'system_fingerprint': 'fp_1bbe7845ec', 'finish_reason': 'tool_calls', 'logprobs': None}, id='run--1a9398ce-6078-4c02-880b-f9896cde143b-0', tool_calls=[{'name': 'search', 'args': {'query': 'weather in Indore'}, 'id': 'q7s49231q', 'type': 'tool_call'}], usage_metadata={'input_tokens': 975, 'output_tokens': 165, 'total_tokens': 1140}),\n",
       "   ToolMessage(content='the temp is 25 degree and cloudy', name='search', id='e82464dc-06d1-4c71-abe6-9912187bf0ba', tool_call_id='q7s49231q'),\n",
       "   HumanMessage(content='What is weather in Indore?', additional_kwargs={}, response_metadata={}, id='ce3367d2-215d-4210-8167-ef3558f80cd7'),\n",
       "   AIMessage(content=\"The current weather in Indore is 25 degrees and cloudy. Is there anything else you'd like to know about the weather?\", additional_kwargs={}, response_metadata={'token_usage': {'completion_tokens': 203, 'prompt_tokens': 1042, 'total_tokens': 1245, 'completion_time': 0.982171812, 'prompt_time': 0.082591489, 'queue_time': 0.05441191099999999, 'total_time': 1.064763301}, 'model_name': 'deepseek-r1-distill-llama-70b', 'system_fingerprint': 'fp_1bbe7845ec', 'finish_reason': 'stop', 'logprobs': None}, id='run--48d7e5c9-95e5-493c-8617-cc4225314859-0', usage_metadata={'input_tokens': 1042, 'output_tokens': 203, 'total_tokens': 1245})]}}"
      ]
     },
     "execution_count": 78,
     "metadata": {},
     "output_type": "execute_result"
    }
   ],
   "source": [
    "memory.get(config)"
   ]
  },
  {
   "cell_type": "markdown",
   "metadata": {},
   "source": [
    "We see the information got appended in the memory."
   ]
  }
 ],
 "metadata": {
  "kernelspec": {
   "display_name": "Python 3",
   "language": "python",
   "name": "python3"
  },
  "language_info": {
   "codemirror_mode": {
    "name": "ipython",
    "version": 3
   },
   "file_extension": ".py",
   "mimetype": "text/x-python",
   "name": "python",
   "nbconvert_exporter": "python",
   "pygments_lexer": "ipython3",
   "version": "3.13.0"
  }
 },
 "nbformat": 4,
 "nbformat_minor": 2
}
