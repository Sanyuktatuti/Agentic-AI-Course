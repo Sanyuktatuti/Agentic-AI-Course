{
 "cells": [
  {
   "cell_type": "markdown",
   "metadata": {},
   "source": [
    "# LangGraph"
   ]
  },
  {
   "cell_type": "markdown",
   "metadata": {},
   "source": [
    "Langgraph Documentation: https://langchain-ai.github.io/langgraph/concepts/why-langgraph/"
   ]
  },
  {
   "cell_type": "markdown",
   "metadata": {},
   "source": [
    "=====================================================================================================\n",
    "\n",
    "Langgraph has two major constituents:\n",
    "\n",
    "1. Node which is a function\n",
    "2. Edges are the connectivitie between those functions, relationship between the functions.\n",
    "\n",
    "There are 2 types of graphs, Cyclic and Acyclic.\n",
    "\n",
    "====================================================================================================="
   ]
  },
  {
   "cell_type": "markdown",
   "metadata": {},
   "source": [
    "#### Agentic Flow:\n",
    "\n",
    "##### Acyclic:\n",
    "\n",
    "Input -> LLM -> ```<thinking>``` -> ```<action>``` -> ```<observation>``` -> Output\n",
    "\n",
    "##### Cyclic:\n",
    "```\n",
    "          _____________________________________________________\n",
    "          |                                                   |\n",
    "          |                                                  \\ /\n",
    "Input -> LLM -> ```<thinking>``` -> ```<action>``` -> ```<observation>``` -> Output\n",
    "         / \\                                                  |\n",
    "          |                                                   |\n",
    "          -----------------------------------------------------"
   ]
  },
  {
   "cell_type": "code",
   "execution_count": 1,
   "metadata": {},
   "outputs": [],
   "source": [
    "def function1(input1):\n",
    "    return input1 + \" from function1\""
   ]
  },
  {
   "cell_type": "code",
   "execution_count": 2,
   "metadata": {},
   "outputs": [],
   "source": [
    "def function2(input2):\n",
    "    return input2 + \" from function2\""
   ]
  },
  {
   "cell_type": "code",
   "execution_count": 3,
   "metadata": {},
   "outputs": [],
   "source": [
    "def function3(input3):\n",
    "    return input3 + \" from function3\""
   ]
  },
  {
   "cell_type": "code",
   "execution_count": 4,
   "metadata": {},
   "outputs": [
    {
     "data": {
      "text/plain": [
       "'Hello from function1'"
      ]
     },
     "execution_count": 4,
     "metadata": {},
     "output_type": "execute_result"
    }
   ],
   "source": [
    "function1(\"Hello\")"
   ]
  },
  {
   "cell_type": "code",
   "execution_count": 5,
   "metadata": {},
   "outputs": [
    {
     "data": {
      "text/plain": [
       "'Hello from function2'"
      ]
     },
     "execution_count": 5,
     "metadata": {},
     "output_type": "execute_result"
    }
   ],
   "source": [
    "function2(\"Hello\")"
   ]
  },
  {
   "cell_type": "code",
   "execution_count": 6,
   "metadata": {},
   "outputs": [
    {
     "data": {
      "text/plain": [
       "'Hello from function3'"
      ]
     },
     "execution_count": 6,
     "metadata": {},
     "output_type": "execute_result"
    }
   ],
   "source": [
    "function3(\"Hello\")"
   ]
  },
  {
   "cell_type": "code",
   "execution_count": 7,
   "metadata": {},
   "outputs": [],
   "source": [
    "from langgraph.graph import StateGraph\n",
    "from typing import TypedDict, Annotated\n",
    "from langchain_core.messages import HumanMessage, AIMessage"
   ]
  },
  {
   "cell_type": "code",
   "execution_count": 8,
   "metadata": {},
   "outputs": [],
   "source": [
    "# Define the state schema - THIS IS REQUIRED!\n",
    "class WorkflowState(TypedDict):\n",
    "    messages: Annotated[list, \"A list of messages\"]\n",
    "    result: Annotated[str, \"The final result\"]"
   ]
  },
  {
   "cell_type": "code",
   "execution_count": 9,
   "metadata": {},
   "outputs": [],
   "source": [
    "workflow1 = StateGraph(WorkflowState)"
   ]
  },
  {
   "cell_type": "code",
   "execution_count": 10,
   "metadata": {},
   "outputs": [],
   "source": [
    "def function1(state: WorkflowState) -> WorkflowState:\n",
    "    \"\"\"First function in the workflow\"\"\"\n",
    "    \n",
    "    # Get the first message from the state\n",
    "    first_message = state[\"messages\"][0] if state[\"messages\"] else \"No message\"\n",
    "    \n",
    "    # Process the message\n",
    "    processed_result = f\"{first_message} processed by function1\"\n",
    "    \n",
    "    # Return updated state\n",
    "    return {\n",
    "        \"messages\": state[\"messages\"],\n",
    "        \"result\": processed_result\n",
    "    }"
   ]
  },
  {
   "cell_type": "code",
   "execution_count": 11,
   "metadata": {},
   "outputs": [],
   "source": [
    "def function2(state: WorkflowState) -> WorkflowState:\n",
    "    \"\"\"Second function in the workflow\"\"\"\n",
    "    # Get the result from previous function\n",
    "    previous_result = state[\"result\"]\n",
    "    \n",
    "    # Process further\n",
    "    new_result = f\"{previous_result} → processed by function2\"\n",
    "    \n",
    "    # Return updated state\n",
    "    return {\n",
    "        \"messages\": state[\"messages\"],\n",
    "        \"result\": new_result\n",
    "    }"
   ]
  },
  {
   "cell_type": "code",
   "execution_count": 12,
   "metadata": {},
   "outputs": [],
   "source": [
    "def function3(state: WorkflowState) -> WorkflowState:\n",
    "    \"\"\"Third function in the workflow\"\"\"\n",
    "    # Get the result from previous function\n",
    "    previous_result = state[\"result\"]\n",
    "    \n",
    "    # Final processing\n",
    "    final_result = f\"{previous_result} → processed by function3 (FINAL)\"\n",
    "    \n",
    "    # Return updated state\n",
    "    return {\n",
    "        \"messages\": state[\"messages\"],\n",
    "        \"result\": final_result\n",
    "    }"
   ]
  },
  {
   "cell_type": "code",
   "execution_count": 13,
   "metadata": {},
   "outputs": [
    {
     "data": {
      "text/plain": [
       "<langgraph.graph.state.StateGraph at 0x10f963cb0>"
      ]
     },
     "execution_count": 13,
     "metadata": {},
     "output_type": "execute_result"
    }
   ],
   "source": [
    "workflow1.add_node(\"func1\", function1)"
   ]
  },
  {
   "cell_type": "code",
   "execution_count": 14,
   "metadata": {},
   "outputs": [
    {
     "data": {
      "text/plain": [
       "<langgraph.graph.state.StateGraph at 0x10f963cb0>"
      ]
     },
     "execution_count": 14,
     "metadata": {},
     "output_type": "execute_result"
    }
   ],
   "source": [
    "workflow1.add_node(\"func2\", function2)"
   ]
  },
  {
   "cell_type": "code",
   "execution_count": 15,
   "metadata": {},
   "outputs": [
    {
     "data": {
      "text/plain": [
       "<langgraph.graph.state.StateGraph at 0x10f963cb0>"
      ]
     },
     "execution_count": 15,
     "metadata": {},
     "output_type": "execute_result"
    }
   ],
   "source": [
    "workflow1.add_node(\"func3\", function3)"
   ]
  },
  {
   "cell_type": "code",
   "execution_count": 16,
   "metadata": {},
   "outputs": [
    {
     "data": {
      "text/plain": [
       "<langgraph.graph.state.StateGraph at 0x10f963cb0>"
      ]
     },
     "execution_count": 16,
     "metadata": {},
     "output_type": "execute_result"
    }
   ],
   "source": [
    "workflow1.set_entry_point(\"func1\")"
   ]
  },
  {
   "cell_type": "code",
   "execution_count": 17,
   "metadata": {},
   "outputs": [
    {
     "data": {
      "text/plain": [
       "<langgraph.graph.state.StateGraph at 0x10f963cb0>"
      ]
     },
     "execution_count": 17,
     "metadata": {},
     "output_type": "execute_result"
    }
   ],
   "source": [
    "workflow1.add_edge(\"func1\", \"func2\")"
   ]
  },
  {
   "cell_type": "code",
   "execution_count": 18,
   "metadata": {},
   "outputs": [
    {
     "data": {
      "text/plain": [
       "<langgraph.graph.state.StateGraph at 0x10f963cb0>"
      ]
     },
     "execution_count": 18,
     "metadata": {},
     "output_type": "execute_result"
    }
   ],
   "source": [
    "workflow1.add_edge(\"func2\", \"func3\")"
   ]
  },
  {
   "cell_type": "code",
   "execution_count": 19,
   "metadata": {},
   "outputs": [
    {
     "data": {
      "text/plain": [
       "<langgraph.graph.state.StateGraph at 0x10f963cb0>"
      ]
     },
     "execution_count": 19,
     "metadata": {},
     "output_type": "execute_result"
    }
   ],
   "source": [
    "workflow1.set_finish_point(\"func3\")"
   ]
  },
  {
   "cell_type": "code",
   "execution_count": 20,
   "metadata": {},
   "outputs": [],
   "source": [
    "app = workflow1.compile()"
   ]
  },
  {
   "cell_type": "code",
   "execution_count": 21,
   "metadata": {},
   "outputs": [],
   "source": [
    "from IPython.display import Image, display"
   ]
  },
  {
   "cell_type": "code",
   "execution_count": 22,
   "metadata": {},
   "outputs": [
    {
     "data": {
      "image/png": "[encoded data removed]",
      "text/plain": [
       "<IPython.core.display.Image object>"
      ]
     },
     "metadata": {},
     "output_type": "display_data"
    }
   ],
   "source": [
    "\n",
    "display(Image(app.get_graph().draw_mermaid_png()))\n",
    "\n"
   ]
  },
  {
   "cell_type": "code",
   "execution_count": 23,
   "metadata": {},
   "outputs": [
    {
     "name": "stdout",
     "output_type": "stream",
     "text": [
      "✅ Final Result: Hello, I am Sanyukta processed by function1 → processed by function2 → processed by function3 (FINAL)\n"
     ]
    }
   ],
   "source": [
    "result = app.invoke({\"messages\": [\"Hello, I am Sanyukta\", \"I am a student\"]})\n",
    "print(\"✅ Final Result:\", result[\"result\"])"
   ]
  },
  {
   "cell_type": "code",
   "execution_count": 24,
   "metadata": {},
   "outputs": [
    {
     "name": "stdout",
     "output_type": "stream",
     "text": [
      "here is the value from func1\n",
      "_______________________\n",
      "{'messages': ['Hello, I am Sanyukta'], 'result': 'Hello, I am Sanyukta processed by function1'}\n",
      "\n",
      "\n",
      "here is the value from func2\n",
      "_______________________\n",
      "{'messages': ['Hello, I am Sanyukta'], 'result': 'Hello, I am Sanyukta processed by function1 → processed by function2'}\n",
      "\n",
      "\n",
      "here is the value from func3\n",
      "_______________________\n",
      "{'messages': ['Hello, I am Sanyukta'], 'result': 'Hello, I am Sanyukta processed by function1 → processed by function2 → processed by function3 (FINAL)'}\n",
      "\n",
      "\n"
     ]
    }
   ],
   "source": [
    "for output in app.stream({\"messages\": [\"Hello, I am Sanyukta\"]}):\n",
    "    for key, value in output.items():\n",
    "        print(f\"here is the value from {key}\")\n",
    "        print(\"_______________________\")\n",
    "        print (value)\n",
    "        print(\"\\n\")\n"
   ]
  },
  {
   "cell_type": "code",
   "execution_count": 2,
   "metadata": {},
   "outputs": [],
   "source": [
    "from langgraph.graph import StateGraph\n",
    "from typing import TypedDict, Annotated\n",
    "from langchain_core.messages import HumanMessage, AIMessage"
   ]
  },
  {
   "cell_type": "code",
   "execution_count": 3,
   "metadata": {},
   "outputs": [],
   "source": [
    "# Define the state schema - THIS IS REQUIRED!\n",
    "class WorkflowState(TypedDict):\n",
    "    messages: Annotated[list, \"A list of messages\"]\n",
    "    result: Annotated[str, \"The final result\"]"
   ]
  },
  {
   "cell_type": "code",
   "execution_count": 4,
   "metadata": {},
   "outputs": [],
   "source": [
    "workflow2 = StateGraph(WorkflowState)"
   ]
  },
  {
   "cell_type": "code",
   "execution_count": 5,
   "metadata": {},
   "outputs": [
    {
     "data": {
      "text/plain": [
       "AIMessage(content=\"Tata is a massive Indian multinational conglomerate, one of the largest in the world.  It's not a single company, but a group of over 100 independent operating companies, all under the Tata brand umbrella.  Its history spans over 150 years, and its businesses are incredibly diverse, spanning multiple sectors.\\n\\nHere's a breakdown of key aspects:\\n\\n* **History:** Founded in 1868 by Jamsetji Tata, the group's early ventures focused on textiles.  Over time, it expanded aggressively into diverse sectors, becoming a significant player in India's industrialization.  The group's philosophy emphasizes ethical conduct, social responsibility, and long-term value creation.\\n\\n* **Diversity of Businesses:**  Tata's portfolio is vast and includes:\\n    * **Automotive:** Tata Motors (cars, trucks, buses), Jaguar Land Rover\\n    * **Steel:** Tata Steel\\n    * **Information Technology:** Tata Consultancy Services (TCS), Tata Elxsi\\n    * **Consumer Goods:** Tata Consumer Products (tea, coffee, salt, etc.), Titan Company (watches, jewellery)\\n    * **Chemicals:** Tata Chemicals\\n    * **Power:** Tata Power\\n    * **Telecommunications:** Tata Teleservices (though significantly reduced in scope)\\n    * **Hospitality:** Taj Hotels\\n    * **Aerospace & Defence:** Tata Advanced Systems\\n\\n* **Global Reach:** While predominantly based in India, Tata companies have a significant global presence, particularly in the IT and automotive sectors.  Jaguar Land Rover, for instance, is a globally recognized brand.\\n\\n* **Ownership Structure:** The Tata group is structured differently than a typical corporation.  It's controlled through a complex network of trusts and holding companies, with the Tata Trusts being the largest shareholder in many of the group's companies.  This structure aims to maintain the group's long-term vision and social responsibility goals.\\n\\n* **Reputation:** Tata enjoys a strong reputation in India and internationally, often associated with quality, reliability, and ethical business practices. However, like any large conglomerate, it has faced its share of challenges and controversies.\\n\\n* **Social Responsibility:**  A key aspect of Tata's identity is its strong commitment to social responsibility.  The Tata Trusts engage in extensive philanthropic activities, supporting education, healthcare, and rural development in India.\\n\\nIn short, Tata is more than just a company; it's a significant part of India's economic and social landscape, representing a unique blend of business acumen, historical legacy, and a commitment to social good.  To truly understand Tata, you'd need to delve into the specifics of its individual companies and their operations.\", additional_kwargs={}, response_metadata={'prompt_feedback': {'block_reason': 0, 'safety_ratings': []}, 'finish_reason': 'STOP', 'model_name': 'gemini-1.5-flash', 'safety_ratings': []}, id='run--a98ff7aa-2fbc-4b00-8a98-b2186c6068f4-0', usage_metadata={'input_tokens': 5, 'output_tokens': 552, 'total_tokens': 557, 'input_token_details': {'cache_read': 0}})"
      ]
     },
     "execution_count": 5,
     "metadata": {},
     "output_type": "execute_result"
    }
   ],
   "source": [
    "from langchain_google_genai import ChatGoogleGenerativeAI\n",
    "model = ChatGoogleGenerativeAI(model=\"gemini-1.5-flash\")\n",
    "\n",
    "output = model.invoke(\"Tell me about Tata?\")\n",
    "\n",
    "output"
   ]
  },
  {
   "cell_type": "code",
   "execution_count": 6,
   "metadata": {},
   "outputs": [
    {
     "data": {
      "text/plain": [
       "\"Tata is a massive Indian multinational conglomerate, one of the largest in the world.  It's not a single company, but a group of over 100 independent operating companies, all under the Tata brand umbrella.  Its history spans over 150 years, and its businesses are incredibly diverse, spanning multiple sectors.\\n\\nHere's a breakdown of key aspects:\\n\\n* **History:** Founded in 1868 by Jamsetji Tata, the group's early ventures focused on textiles.  Over time, it expanded aggressively into diverse sectors, becoming a significant player in India's industrialization.  The group's philosophy emphasizes ethical conduct, social responsibility, and long-term value creation.\\n\\n* **Diversity of Businesses:**  Tata's portfolio is vast and includes:\\n    * **Automotive:** Tata Motors (cars, trucks, buses), Jaguar Land Rover\\n    * **Steel:** Tata Steel\\n    * **Information Technology:** Tata Consultancy Services (TCS), Tata Elxsi\\n    * **Consumer Goods:** Tata Consumer Products (tea, coffee, salt, etc.), Titan Company (watches, jewellery)\\n    * **Chemicals:** Tata Chemicals\\n    * **Power:** Tata Power\\n    * **Telecommunications:** Tata Teleservices (though significantly reduced in scope)\\n    * **Hospitality:** Taj Hotels\\n    * **Aerospace & Defence:** Tata Advanced Systems\\n\\n* **Global Reach:** While predominantly based in India, Tata companies have a significant global presence, particularly in the IT and automotive sectors.  Jaguar Land Rover, for instance, is a globally recognized brand.\\n\\n* **Ownership Structure:** The Tata group is structured differently than a typical corporation.  It's controlled through a complex network of trusts and holding companies, with the Tata Trusts being the largest shareholder in many of the group's companies.  This structure aims to maintain the group's long-term vision and social responsibility goals.\\n\\n* **Reputation:** Tata enjoys a strong reputation in India and internationally, often associated with quality, reliability, and ethical business practices. However, like any large conglomerate, it has faced its share of challenges and controversies.\\n\\n* **Social Responsibility:**  A key aspect of Tata's identity is its strong commitment to social responsibility.  The Tata Trusts engage in extensive philanthropic activities, supporting education, healthcare, and rural development in India.\\n\\nIn short, Tata is more than just a company; it's a significant part of India's economic and social landscape, representing a unique blend of business acumen, historical legacy, and a commitment to social good.  To truly understand Tata, you'd need to delve into the specifics of its individual companies and their operations.\""
      ]
     },
     "execution_count": 6,
     "metadata": {},
     "output_type": "execute_result"
    }
   ],
   "source": [
    "output.content"
   ]
  },
  {
   "cell_type": "code",
   "execution_count": 7,
   "metadata": {},
   "outputs": [],
   "source": [
    "def llm(state: WorkflowState):\n",
    "\n",
    "    \"\"\"LLM function in the workflow2\"\"\"\n",
    "\n",
    "    from langchain_google_genai import ChatGoogleGenerativeAI\n",
    "    model = ChatGoogleGenerativeAI(model=\"gemini-1.5-flash\")\n",
    "\n",
    "    # Get the first message from the state\n",
    "    input = state[\"messages\"][0] if state[\"messages\"] else \"No message\"\n",
    "\n",
    "    output = model.invoke(input)\n",
    "    return {\n",
    "        \"messages\": state[\"messages\"],\n",
    "        \"result\": output.content\n",
    "    }"
   ]
  },
  {
   "cell_type": "code",
   "execution_count": 8,
   "metadata": {},
   "outputs": [],
   "source": [
    "def token_counter(state: WorkflowState):\n",
    "\n",
    "    \"\"\"Token counter function in the workflow2\"\"\"\n",
    "\n",
    "    # Get the first message from the state\n",
    "    input = state[\"result\"] \n",
    "\n",
    "    token=input.split()\n",
    "    token_count=len(token)\n",
    "    \n",
    "    return {\n",
    "        \"messages\": f\"{state[\"messages\"]} → {input}\",\n",
    "        \"result\": f\"The number of tokens in the input is {token_count}\"\n",
    "    }"
   ]
  },
  {
   "cell_type": "code",
   "execution_count": 9,
   "metadata": {},
   "outputs": [
    {
     "data": {
      "text/plain": [
       "<langgraph.graph.state.StateGraph at 0x1063af770>"
      ]
     },
     "execution_count": 9,
     "metadata": {},
     "output_type": "execute_result"
    }
   ],
   "source": [
    "workflow2.add_node(\"My_LLM\", llm)"
   ]
  },
  {
   "cell_type": "code",
   "execution_count": 10,
   "metadata": {},
   "outputs": [
    {
     "data": {
      "text/plain": [
       "<langgraph.graph.state.StateGraph at 0x1063af770>"
      ]
     },
     "execution_count": 10,
     "metadata": {},
     "output_type": "execute_result"
    }
   ],
   "source": [
    "workflow2.add_node(\"LLM_Output_Token_Counter\", token_counter)"
   ]
  },
  {
   "cell_type": "code",
   "execution_count": 11,
   "metadata": {},
   "outputs": [
    {
     "data": {
      "text/plain": [
       "<langgraph.graph.state.StateGraph at 0x1063af770>"
      ]
     },
     "execution_count": 11,
     "metadata": {},
     "output_type": "execute_result"
    }
   ],
   "source": [
    "workflow2.add_edge(\"My_LLM\", \"LLM_Output_Token_Counter\")"
   ]
  },
  {
   "cell_type": "code",
   "execution_count": 12,
   "metadata": {},
   "outputs": [
    {
     "data": {
      "text/plain": [
       "<langgraph.graph.state.StateGraph at 0x1063af770>"
      ]
     },
     "execution_count": 12,
     "metadata": {},
     "output_type": "execute_result"
    }
   ],
   "source": [
    "workflow2.set_entry_point(\"My_LLM\")"
   ]
  },
  {
   "cell_type": "code",
   "execution_count": 13,
   "metadata": {},
   "outputs": [
    {
     "data": {
      "text/plain": [
       "<langgraph.graph.state.StateGraph at 0x1063af770>"
      ]
     },
     "execution_count": 13,
     "metadata": {},
     "output_type": "execute_result"
    }
   ],
   "source": [
    "workflow2.set_finish_point(\"LLM_Output_Token_Counter\")"
   ]
  },
  {
   "cell_type": "code",
   "execution_count": 14,
   "metadata": {},
   "outputs": [],
   "source": [
    "app2=workflow2.compile()"
   ]
  },
  {
   "cell_type": "code",
   "execution_count": 15,
   "metadata": {},
   "outputs": [],
   "source": [
    "from IPython.display import Image, display"
   ]
  },
  {
   "cell_type": "code",
   "execution_count": 16,
   "metadata": {},
   "outputs": [
    {
     "data": {
      "image/png": "[encoded data removed]",
      "text/plain": [
       "<IPython.core.display.Image object>"
      ]
     },
     "metadata": {},
     "output_type": "display_data"
    }
   ],
   "source": [
    "display(Image(app2.get_graph().draw_mermaid_png()))"
   ]
  },
  {
   "cell_type": "code",
   "execution_count": 40,
   "metadata": {},
   "outputs": [
    {
     "name": "stdout",
     "output_type": "stream",
     "text": [
      "The number of tokens in the input is 6\n"
     ]
    }
   ],
   "source": [
    "final_result = app2.invoke({\"messages\": [\"Can you tell me the capital of France?\"]})\n",
    "print(final_result[\"result\"])"
   ]
  },
  {
   "cell_type": "code",
   "execution_count": 46,
   "metadata": {},
   "outputs": [
    {
     "name": "stdout",
     "output_type": "stream",
     "text": [
      "here is the value from My_LLM\n",
      "_______________________\n",
      "{'messages': ['Can you tell me the capital of France?'], 'result': 'Paris'}\n",
      "\n",
      "\n",
      "here is the value from LLM_Output_Token_Counter\n",
      "_______________________\n",
      "{'messages': \"['Can you tell me the capital of France?'] → Paris\", 'result': 'The number of tokens in the input is 1'}\n",
      "\n",
      "\n"
     ]
    }
   ],
   "source": [
    "for output in app2.stream({\"messages\": [\"Can you tell me the capital of France?\"]}):\n",
    "    for key, value in output.items():\n",
    "        print(f\"here is the value from {key}\")\n",
    "        print(\"_______________________\")\n",
    "        print (value)\n",
    "        print(\"\\n\")"
   ]
  },
  {
   "cell_type": "code",
   "execution_count": 18,
   "metadata": {},
   "outputs": [
    {
     "name": "stdout",
     "output_type": "stream",
     "text": [
      "The number of tokens in the input is 417\n"
     ]
    }
   ],
   "source": [
    "final_result2 = app2.invoke({\"messages\": [\"Tell me about Tata?\"]})\n",
    "print(final_result2[\"result\"])"
   ]
  },
  {
   "cell_type": "code",
   "execution_count": 17,
   "metadata": {},
   "outputs": [
    {
     "name": "stdout",
     "output_type": "stream",
     "text": [
      "here is the value from My_LLM\n",
      "_______________________\n",
      "['Tell me about Tata?']\n",
      "\n",
      "\n",
      "Tata is a massive Indian multinational conglomerate, one of the largest in the world.  It's not a single company, but a group of over 100 operating companies, under the umbrella of Tata Sons, a holding company.  Its diverse portfolio spans numerous sectors, making it a truly sprawling enterprise.\n",
      "\n",
      "Here are some key aspects of Tata:\n",
      "\n",
      "* **History and Heritage:** Founded in 1868 by Jamsetji Tata, the group has a long and storied history, deeply ingrained in Indian culture and known for its ethical business practices and philanthropic endeavors.  This strong emphasis on social responsibility is a significant part of its identity.\n",
      "\n",
      "* **Diversity of Businesses:** Tata's businesses are incredibly diverse, ranging from:\n",
      "    * **Automotive:** Tata Motors (manufacturers of cars, trucks, and buses, including Jaguar Land Rover),\n",
      "    * **Steel:** Tata Steel (a major global steel producer),\n",
      "    * **IT Services:** Tata Consultancy Services (TCS), one of the world's largest IT services companies,\n",
      "    * **Consumer Goods:** Tata Consumer Products (food and beverages),\n",
      "    * **Chemicals:** Tata Chemicals,\n",
      "    * **Telecommunications:** Tata Teleservices (although significantly reduced in recent years),\n",
      "    * **Energy:** Tata Power,\n",
      "    * **Hospitality:** Taj Hotels Resorts and Palaces (luxury hotels),\n",
      "    * **Aerospace and Defence:** Tata Advanced Systems,\n",
      "    * **Retail:** Trent (Westside, Star Bazaar)\n",
      "\n",
      "* **Global Presence:** While originating in India, Tata has a significant global presence, with operations and subsidiaries in numerous countries across the world.\n",
      "\n",
      "* **Ownership and Governance:** Tata Sons is the holding company, and its ownership is complex, involving trusts and various stakeholders.  The group's governance structure has been a topic of discussion and change over the years.\n",
      "\n",
      "* **Philanthropy:**  The Tata group is renowned for its extensive philanthropic activities through various trusts and foundations, contributing significantly to education, healthcare, and social development in India and globally.\n",
      "\n",
      "* **Recent Developments:**  The group has been undergoing significant restructuring and strategic shifts in recent years, focusing on growth in key sectors and adapting to changing global market conditions.  There have also been notable leadership changes.\n",
      "\n",
      "\n",
      "In short, Tata is more than just a company; it's a symbol of Indian industry, innovation, and social responsibility.  Understanding its vastness and diversity requires looking at its individual companies and their contributions, rather than trying to encapsulate it all at once.\n",
      "\n",
      "\n",
      "here is the value from LLM_Output_Token_Counter\n",
      "_______________________\n",
      "['Tell me about Tata?'] → Tata is a massive Indian multinational conglomerate, one of the largest in the world.  It's not a single company, but a group of over 100 operating companies, under the umbrella of Tata Sons, a holding company.  Its diverse portfolio spans numerous sectors, making it a truly sprawling enterprise.\n",
      "\n",
      "Here are some key aspects of Tata:\n",
      "\n",
      "* **History and Heritage:** Founded in 1868 by Jamsetji Tata, the group has a long and storied history, deeply ingrained in Indian culture and known for its ethical business practices and philanthropic endeavors.  This strong emphasis on social responsibility is a significant part of its identity.\n",
      "\n",
      "* **Diversity of Businesses:** Tata's businesses are incredibly diverse, ranging from:\n",
      "    * **Automotive:** Tata Motors (manufacturers of cars, trucks, and buses, including Jaguar Land Rover),\n",
      "    * **Steel:** Tata Steel (a major global steel producer),\n",
      "    * **IT Services:** Tata Consultancy Services (TCS), one of the world's largest IT services companies,\n",
      "    * **Consumer Goods:** Tata Consumer Products (food and beverages),\n",
      "    * **Chemicals:** Tata Chemicals,\n",
      "    * **Telecommunications:** Tata Teleservices (although significantly reduced in recent years),\n",
      "    * **Energy:** Tata Power,\n",
      "    * **Hospitality:** Taj Hotels Resorts and Palaces (luxury hotels),\n",
      "    * **Aerospace and Defence:** Tata Advanced Systems,\n",
      "    * **Retail:** Trent (Westside, Star Bazaar)\n",
      "\n",
      "* **Global Presence:** While originating in India, Tata has a significant global presence, with operations and subsidiaries in numerous countries across the world.\n",
      "\n",
      "* **Ownership and Governance:** Tata Sons is the holding company, and its ownership is complex, involving trusts and various stakeholders.  The group's governance structure has been a topic of discussion and change over the years.\n",
      "\n",
      "* **Philanthropy:**  The Tata group is renowned for its extensive philanthropic activities through various trusts and foundations, contributing significantly to education, healthcare, and social development in India and globally.\n",
      "\n",
      "* **Recent Developments:**  The group has been undergoing significant restructuring and strategic shifts in recent years, focusing on growth in key sectors and adapting to changing global market conditions.  There have also been notable leadership changes.\n",
      "\n",
      "\n",
      "In short, Tata is more than just a company; it's a symbol of Indian industry, innovation, and social responsibility.  Understanding its vastness and diversity requires looking at its individual companies and their contributions, rather than trying to encapsulate it all at once.\n",
      "\n",
      "\n",
      "The number of tokens in the input is 364\n",
      "\n",
      "\n"
     ]
    }
   ],
   "source": [
    "for output in app2.stream({\"messages\": [\"Tell me about Tata?\"]}):\n",
    "    for key, value in output.items():\n",
    "        print(f\"here is the value from {key}\")\n",
    "        print(\"_______________________\")\n",
    "        print(value[\"messages\"])\n",
    "        print(\"\\n\")\n",
    "        print (value[\"result\"])\n",
    "        print(\"\\n\")"
   ]
  },
  {
   "cell_type": "markdown",
   "metadata": {},
   "source": [
    "________________________________________________________________________________________________________\n",
    "\n",
    "\n",
    "# ADVANCED LANGGRAPH\n",
    "\n",
    "________________________________________________________________________________________________________\n"
   ]
  },
  {
   "cell_type": "markdown",
   "metadata": {},
   "source": [
    "Graph Architecture:\n",
    "```\n",
    "\n",
    "            -------------                               AGENDA:                \n",
    "            |           |                               1. Conditional Edges\n",
    "            | __start__ |                               2. State Management\n",
    "            -------------\n",
    "                  |\n",
    "                  |\n",
    "                  |\n",
    "                 \\ /\n",
    "            -------------\n",
    "            |           |\n",
    "            | supervisor|\n",
    "            -------------\n",
    "                /   \\\n",
    "               /     \\\n",
    "              /       \\\n",
    "        LLM CALL    RAG CALL    \n",
    "             |         | \n",
    "             |         |\n",
    "            \\ /       \\ /\n",
    "    -------------     -------------\n",
    "    |           |     |            |\n",
    "    |  LLM      |     |   RAG      |\n",
    "    -------------     -------------\n",
    "            |               |\n",
    "            |               |\n",
    "            \\               /\n",
    "             \\             /\n",
    "             \\ /         \\ /\n",
    "              -------------\n",
    "              |           |\n",
    "              |  __end__  |\n",
    "              -------------\n",
    "    \n",
    "```"
   ]
  },
  {
   "cell_type": "markdown",
   "metadata": {},
   "source": [
    "________________________________________________________________________________________________________\n",
    "\n",
    "### REACT AGENT\n",
    "\n",
    "React -> LLM -> Multiflow\n",
    "\n",
    "________________________________________________________________________________________________________\n"
   ]
  },
  {
   "cell_type": "markdown",
   "metadata": {},
   "source": [
    "##### Example:\n",
    "```\n",
    "\n",
    "            -------------                                               \n",
    "            |           |                             \n",
    "            | __start__ |         \n",
    "            -------------\n",
    "                  |\n",
    "                  |  <----- Q1. How are you?,  Q2. What is the current GDP of USA?\n",
    "                  |\n",
    "                 \\ /\n",
    "            -------------\n",
    "            |           |\n",
    "            | supervisor|  <- The supervisor calls the LLM node for the Q1. How are you? then ends.\n",
    "            -------------  <- The supervisor calls the RAG node for the Q2. What is the current GDP of USA?.\n",
    "                /   \\\n",
    "               /     \\\n",
    "              /       \\\n",
    "        LLM CALL    RAG CALL    \n",
    "             |         | \n",
    "             |         |\n",
    "            \\ /       \\ /\n",
    "    -------------     -------------            -------------\n",
    "    |           |     |            |           |            |\n",
    "    |  LLM      |     |   RAG      | ------->  |  Vector DB |  <---- Data (Eg.: USA Industry)\n",
    "    -------------     -------------            --------------\n",
    "            |               |\n",
    "            |               |\n",
    "            \\               /\n",
    "             \\             /\n",
    "             \\ /         \\ /\n",
    "              -------------\n",
    "              |           |\n",
    "              |  __end__  |\n",
    "              -------------\n",
    "    \n",
    "```"
   ]
  },
  {
   "cell_type": "code",
   "execution_count": null,
   "metadata": {},
   "outputs": [],
   "source": []
  }
 ],
 "metadata": {
  "kernelspec": {
   "display_name": "Python 3",
   "language": "python",
   "name": "python3"
  },
  "language_info": {
   "codemirror_mode": {
    "name": "ipython",
    "version": 3
   },
   "file_extension": ".py",
   "mimetype": "text/x-python",
   "name": "python",
   "nbconvert_exporter": "python",
   "pygments_lexer": "ipython3",
   "version": "3.13.0"
  }
 },
 "nbformat": 4,
 "nbformat_minor": 2
}
