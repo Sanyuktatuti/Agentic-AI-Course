{
 "cells": [
  {
   "cell_type": "markdown",
   "id": "c8a3038e",
   "metadata": {},
   "source": [
    "___________\n",
    "\n",
    "# First AutoGen Agent"
   ]
  },
  {
   "cell_type": "code",
   "execution_count": 2,
   "id": "730e780b",
   "metadata": {},
   "outputs": [],
   "source": [
    "from autogen_agentchat.agents import AssistantAgent\n",
    "from autogen_ext.models.openai import OpenAIChatCompletionClient\n",
    "from dotenv import load_dotenv\n",
    "import os\n",
    "\n",
    "load_dotenv()\n",
    "\n",
    "api_key = os.getenv('OPENAI_API_KEY')"
   ]
  },
  {
   "cell_type": "markdown",
   "id": "b99e6a38",
   "metadata": {},
   "source": [
    "AI Agent \n",
    "- Brain (LLM)      "
   ]
  },
  {
   "cell_type": "markdown",
   "id": "c455ef46",
   "metadata": {},
   "source": [
    "### AutoGen Architecture\n",
    "\n",
    "It has a layered architecture.\n",
    "\n"
   ]
  },
  {
   "cell_type": "markdown",
   "id": "d06a3e60",
   "metadata": {},
   "source": [
    "### Connecting to the model"
   ]
  },
  {
   "cell_type": "code",
   "execution_count": 3,
   "id": "b525ac70",
   "metadata": {},
   "outputs": [],
   "source": [
    "model_client = OpenAIChatCompletionClient(model=\"gpt-4o\", api_key=api_key)"
   ]
  },
  {
   "cell_type": "code",
   "execution_count": 4,
   "id": "1f908e76",
   "metadata": {},
   "outputs": [],
   "source": [
    "agent_1 = AssistantAgent(name = 'my_assistant', model_client = model_client)"
   ]
  },
  {
   "cell_type": "code",
   "execution_count": 11,
   "id": "b3bb1bd4",
   "metadata": {},
   "outputs": [
    {
     "data": {
      "text/plain": [
       "<autogen_agentchat.agents._assistant_agent.AssistantAgent at 0x12619f230>"
      ]
     },
     "execution_count": 11,
     "metadata": {},
     "output_type": "execute_result"
    }
   ],
   "source": [
    "agent_1"
   ]
  },
  {
   "cell_type": "code",
   "execution_count": null,
   "id": "c8e52731",
   "metadata": {},
   "outputs": [],
   "source": [
    "result = await agent_1.run(task=\"Tell me something about you?\")"
   ]
  },
  {
   "cell_type": "markdown",
   "id": "468dca95",
   "metadata": {},
   "source": [
    "#### Understanding `await` in AutoGen\n",
    "\n",
    "#### What is `await`?\n",
    "\n",
    "The `await` keyword is used for **asynchronous programming** in Python. When you see:\n",
    "\n",
    "```python\n",
    "result = await agent_1.run(task=\"Tell me something about you?\")\n",
    "```\n",
    "\n",
    "#### What happens behind the scenes:\n",
    "\n",
    "1. **API Call Initiation**: AutoGen starts making a call to the AI model (OpenAI, etc.)\n",
    "2. **Non-blocking Wait**: Instead of freezing your program, `await` pauses just this operation\n",
    "3. **Other Code Can Run**: Your program can handle other tasks while waiting\n",
    "4. **Result Return**: Once the AI responds, `await` returns the result\n",
    "\n",
    "#### Why AutoGen uses `await`:\n",
    "\n",
    "- **AI API calls are slow** (can take 1-10 seconds)\n",
    "- **Network requests are unpredictable** \n",
    "- **Multiple agents** can work simultaneously\n",
    "- **Better user experience** (no freezing interface)\n",
    "- **Efficient resource usage**"
   ]
  },
  {
   "cell_type": "code",
   "execution_count": 6,
   "id": "6dee266a",
   "metadata": {},
   "outputs": [
    {
     "name": "stdout",
     "output_type": "stream",
     "text": [
      "messages=[TextMessage(id='6ceedb94-2a82-4015-95fb-24e8f9740cc9', source='user', models_usage=None, metadata={}, created_at=datetime.datetime(2025, 7, 12, 16, 28, 7, 82962, tzinfo=datetime.timezone.utc), content='Tell me something about you?', type='TextMessage'), TextMessage(id='49bc8ba6-471d-4b58-a530-1c21f67e8465', source='my_assistant', models_usage=RequestUsage(prompt_tokens=42, completion_tokens=79), metadata={}, created_at=datetime.datetime(2025, 7, 12, 16, 28, 10, 390625, tzinfo=datetime.timezone.utc), content=\"I am an AI assistant designed to help with a wide range of tasks, from answering questions and providing information to assisting with decision-making and problem-solving. I'm trained on diverse data and am capable of understanding and generating human-like text in multiple languages. My goal is to be helpful, accurate, and respectful in all interactions. If you have any specific questions or need assistance, feel free to ask!\", type='TextMessage')] stop_reason=None\n"
     ]
    }
   ],
   "source": [
    "print (result)"
   ]
  },
  {
   "cell_type": "code",
   "execution_count": 9,
   "id": "6c07d737",
   "metadata": {},
   "outputs": [],
   "source": [
    "result2 = result = await agent_1.run(task=\"What was the last question I asked you?\")"
   ]
  },
  {
   "cell_type": "code",
   "execution_count": 10,
   "id": "0b2b5b22",
   "metadata": {},
   "outputs": [
    {
     "data": {
      "text/plain": [
       "TaskResult(messages=[TextMessage(id='a5888bc0-3ab0-4ae2-a3ce-13cfebfe96e3', source='user', models_usage=None, metadata={}, created_at=datetime.datetime(2025, 7, 12, 16, 29, 47, 573583, tzinfo=datetime.timezone.utc), content='What was the last question I asked you?', type='TextMessage'), TextMessage(id='99caff48-3580-4bcf-ad2b-bdc3c790c51d', source='my_assistant', models_usage=RequestUsage(prompt_tokens=139, completion_tokens=56), metadata={}, created_at=datetime.datetime(2025, 7, 12, 16, 29, 50, 584753, tzinfo=datetime.timezone.utc), content=\"I'm sorry, but I don't have the ability to remember past interactions or recall previous questions. Each session is stateless and independent, so I don’t have records of past conversations. If you have a question you'd like to ask or revisit, please feel free to mention it again!\", type='TextMessage')], stop_reason=None)"
      ]
     },
     "execution_count": 10,
     "metadata": {},
     "output_type": "execute_result"
    }
   ],
   "source": [
    "result2"
   ]
  },
  {
   "cell_type": "code",
   "execution_count": null,
   "id": "4781e8da",
   "metadata": {},
   "outputs": [],
   "source": []
  }
 ],
 "metadata": {
  "kernelspec": {
   "display_name": "Python 3",
   "language": "python",
   "name": "python3"
  },
  "language_info": {
   "codemirror_mode": {
    "name": "ipython",
    "version": 3
   },
   "file_extension": ".py",
   "mimetype": "text/x-python",
   "name": "python",
   "nbconvert_exporter": "python",
   "pygments_lexer": "ipython3",
   "version": "3.13.0"
  }
 },
 "nbformat": 4,
 "nbformat_minor": 5
}
